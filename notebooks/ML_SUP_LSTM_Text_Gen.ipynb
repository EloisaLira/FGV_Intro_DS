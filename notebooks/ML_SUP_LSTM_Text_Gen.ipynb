{
 "cells": [
  {
   "cell_type": "markdown",
   "metadata": {},
   "source": [
    "### Develop a Small LSTM Recurrent Neural Network\n",
    "\n",
    "using Tensor Flow and Keras"
   ]
  },
  {
   "cell_type": "markdown",
   "metadata": {},
   "source": [
    "Let’s start off by importing the classes and functions we intend to use to train our model."
   ]
  },
  {
   "cell_type": "code",
   "execution_count": 1,
   "metadata": {},
   "outputs": [],
   "source": [
    "import os\n",
    "import sys\n",
    "import time\n",
    "import re\n",
    "import numpy\n",
    "import matplotlib.pyplot as plt\n",
    "import tensorflow as tf"
   ]
  },
  {
   "cell_type": "code",
   "execution_count": 2,
   "metadata": {},
   "outputs": [],
   "source": [
    "# fix random seed for reproducibility\n",
    "seed = 7\n",
    "numpy.random.seed(seed)"
   ]
  },
  {
   "cell_type": "markdown",
   "metadata": {},
   "source": [
    "First we'll develop a small ANN with Keras:"
   ]
  },
  {
   "cell_type": "code",
   "execution_count": 3,
   "metadata": {},
   "outputs": [],
   "source": [
    "# load pima indians dataset\n",
    "dataset = numpy.loadtxt(\"../datasets/CSVs/pima-indians-diabetes.data\", delimiter=\",\")"
   ]
  },
  {
   "cell_type": "code",
   "execution_count": 4,
   "metadata": {},
   "outputs": [],
   "source": [
    "# split into input (X) and output (Y) variables\n",
    "X = dataset[:,0:8]\n",
    "Y = dataset[:,8]"
   ]
  },
  {
   "cell_type": "code",
   "execution_count": 5,
   "metadata": {},
   "outputs": [],
   "source": [
    "# create model\n",
    "model = tf.keras.Sequential()\n",
    "model.add(tf.keras.layers.Dense(12, input_dim=8, activation=\"relu\", kernel_initializer=\"uniform\"))\n",
    "model.add(tf.keras.layers.Dense(8, activation=\"relu\", kernel_initializer=\"uniform\"))\n",
    "model.add(tf.keras.layers.Dense(1, activation=\"sigmoid\", kernel_initializer=\"uniform\"))"
   ]
  },
  {
   "cell_type": "code",
   "execution_count": 6,
   "metadata": {},
   "outputs": [],
   "source": [
    "# Compile model\n",
    "model.compile(loss='binary_crossentropy', optimizer='adam', metrics=['accuracy'])"
   ]
  },
  {
   "cell_type": "code",
   "execution_count": 7,
   "metadata": {
    "scrolled": true
   },
   "outputs": [
    {
     "name": "stdout",
     "output_type": "stream",
     "text": [
      "Train on 514 samples, validate on 254 samples\n",
      "Epoch 1/200\n",
      "514/514 [==============================] - 1s 1ms/sample - loss: 0.6801 - accuracy: 0.6420 - val_loss: 0.6617 - val_accuracy: 0.6732\n",
      "Epoch 2/200\n",
      "514/514 [==============================] - 0s 119us/sample - loss: 0.6659 - accuracy: 0.6401 - val_loss: 0.6491 - val_accuracy: 0.6732\n",
      "Epoch 3/200\n",
      "514/514 [==============================] - 0s 130us/sample - loss: 0.6568 - accuracy: 0.6401 - val_loss: 0.6429 - val_accuracy: 0.6732\n",
      "Epoch 4/200\n",
      "514/514 [==============================] - 0s 121us/sample - loss: 0.6518 - accuracy: 0.6420 - val_loss: 0.6360 - val_accuracy: 0.6732\n",
      "Epoch 5/200\n",
      "514/514 [==============================] - 0s 119us/sample - loss: 0.6432 - accuracy: 0.6498 - val_loss: 0.6266 - val_accuracy: 0.6811\n",
      "Epoch 6/200\n",
      "514/514 [==============================] - 0s 120us/sample - loss: 0.6402 - accuracy: 0.6654 - val_loss: 0.6179 - val_accuracy: 0.6969\n",
      "Epoch 7/200\n",
      "514/514 [==============================] - 0s 119us/sample - loss: 0.6290 - accuracy: 0.6634 - val_loss: 0.6064 - val_accuracy: 0.6929\n",
      "Epoch 8/200\n",
      "514/514 [==============================] - 0s 119us/sample - loss: 0.6299 - accuracy: 0.6634 - val_loss: 0.6026 - val_accuracy: 0.6890\n",
      "Epoch 9/200\n",
      "514/514 [==============================] - 0s 126us/sample - loss: 0.6205 - accuracy: 0.6556 - val_loss: 0.5946 - val_accuracy: 0.6890\n",
      "Epoch 10/200\n",
      "514/514 [==============================] - 0s 139us/sample - loss: 0.6183 - accuracy: 0.6654 - val_loss: 0.5925 - val_accuracy: 0.7047\n",
      "Epoch 11/200\n",
      "514/514 [==============================] - 0s 142us/sample - loss: 0.6117 - accuracy: 0.6693 - val_loss: 0.5892 - val_accuracy: 0.7165\n",
      "Epoch 12/200\n",
      "514/514 [==============================] - 0s 139us/sample - loss: 0.6093 - accuracy: 0.6673 - val_loss: 0.5851 - val_accuracy: 0.7323\n",
      "Epoch 13/200\n",
      "514/514 [==============================] - 0s 141us/sample - loss: 0.6036 - accuracy: 0.6693 - val_loss: 0.5815 - val_accuracy: 0.7126\n",
      "Epoch 14/200\n",
      "514/514 [==============================] - 0s 142us/sample - loss: 0.6051 - accuracy: 0.6615 - val_loss: 0.5837 - val_accuracy: 0.7126\n",
      "Epoch 15/200\n",
      "514/514 [==============================] - 0s 156us/sample - loss: 0.6044 - accuracy: 0.6693 - val_loss: 0.5847 - val_accuracy: 0.7008\n",
      "Epoch 16/200\n",
      "514/514 [==============================] - 0s 196us/sample - loss: 0.6043 - accuracy: 0.6732 - val_loss: 0.5771 - val_accuracy: 0.7205\n",
      "Epoch 17/200\n",
      "514/514 [==============================] - 0s 196us/sample - loss: 0.6046 - accuracy: 0.6829 - val_loss: 0.5754 - val_accuracy: 0.7087\n",
      "Epoch 18/200\n",
      "514/514 [==============================] - 0s 198us/sample - loss: 0.5870 - accuracy: 0.6965 - val_loss: 0.6125 - val_accuracy: 0.6850\n",
      "Epoch 19/200\n",
      "514/514 [==============================] - 0s 210us/sample - loss: 0.6027 - accuracy: 0.6770 - val_loss: 0.5765 - val_accuracy: 0.6929\n",
      "Epoch 20/200\n",
      "514/514 [==============================] - 0s 261us/sample - loss: 0.5973 - accuracy: 0.6809 - val_loss: 0.5796 - val_accuracy: 0.7244\n",
      "Epoch 21/200\n",
      "514/514 [==============================] - 0s 263us/sample - loss: 0.6001 - accuracy: 0.6868 - val_loss: 0.5708 - val_accuracy: 0.7126\n",
      "Epoch 22/200\n",
      "514/514 [==============================] - 0s 262us/sample - loss: 0.5853 - accuracy: 0.6887 - val_loss: 0.5744 - val_accuracy: 0.7126\n",
      "Epoch 23/200\n",
      "514/514 [==============================] - 0s 158us/sample - loss: 0.5880 - accuracy: 0.6907 - val_loss: 0.5795 - val_accuracy: 0.6850\n",
      "Epoch 24/200\n",
      "514/514 [==============================] - 0s 119us/sample - loss: 0.5964 - accuracy: 0.6926 - val_loss: 0.5976 - val_accuracy: 0.6693\n",
      "Epoch 25/200\n",
      "514/514 [==============================] - 0s 122us/sample - loss: 0.5897 - accuracy: 0.6926 - val_loss: 0.5794 - val_accuracy: 0.7047\n",
      "Epoch 26/200\n",
      "514/514 [==============================] - 0s 154us/sample - loss: 0.5931 - accuracy: 0.6907 - val_loss: 0.5744 - val_accuracy: 0.7323\n",
      "Epoch 27/200\n",
      "514/514 [==============================] - 0s 154us/sample - loss: 0.5878 - accuracy: 0.6887 - val_loss: 0.5730 - val_accuracy: 0.7323\n",
      "Epoch 28/200\n",
      "514/514 [==============================] - 0s 174us/sample - loss: 0.5862 - accuracy: 0.7004 - val_loss: 0.5721 - val_accuracy: 0.7087\n",
      "Epoch 29/200\n",
      "514/514 [==============================] - 0s 171us/sample - loss: 0.5773 - accuracy: 0.7004 - val_loss: 0.5828 - val_accuracy: 0.6890\n",
      "Epoch 30/200\n",
      "514/514 [==============================] - 0s 179us/sample - loss: 0.5872 - accuracy: 0.6926 - val_loss: 0.5952 - val_accuracy: 0.6732\n",
      "Epoch 31/200\n",
      "514/514 [==============================] - 0s 174us/sample - loss: 0.5919 - accuracy: 0.6965 - val_loss: 0.5768 - val_accuracy: 0.7126\n",
      "Epoch 32/200\n",
      "514/514 [==============================] - 0s 171us/sample - loss: 0.5931 - accuracy: 0.6887 - val_loss: 0.5769 - val_accuracy: 0.7087\n",
      "Epoch 33/200\n",
      "514/514 [==============================] - 0s 175us/sample - loss: 0.5870 - accuracy: 0.6887 - val_loss: 0.5733 - val_accuracy: 0.7283\n",
      "Epoch 34/200\n",
      "514/514 [==============================] - 0s 176us/sample - loss: 0.5840 - accuracy: 0.6790 - val_loss: 0.5765 - val_accuracy: 0.7165\n",
      "Epoch 35/200\n",
      "514/514 [==============================] - 0s 177us/sample - loss: 0.5810 - accuracy: 0.6965 - val_loss: 0.5720 - val_accuracy: 0.7205\n",
      "Epoch 36/200\n",
      "514/514 [==============================] - 0s 174us/sample - loss: 0.5793 - accuracy: 0.6984 - val_loss: 0.5710 - val_accuracy: 0.7087\n",
      "Epoch 37/200\n",
      "514/514 [==============================] - 0s 177us/sample - loss: 0.5809 - accuracy: 0.6984 - val_loss: 0.5775 - val_accuracy: 0.6811\n",
      "Epoch 38/200\n",
      "514/514 [==============================] - 0s 144us/sample - loss: 0.5755 - accuracy: 0.6946 - val_loss: 0.5685 - val_accuracy: 0.7165\n",
      "Epoch 39/200\n",
      "514/514 [==============================] - 0s 125us/sample - loss: 0.5782 - accuracy: 0.7101 - val_loss: 0.5697 - val_accuracy: 0.7087\n",
      "Epoch 40/200\n",
      "514/514 [==============================] - 0s 124us/sample - loss: 0.5763 - accuracy: 0.7023 - val_loss: 0.5690 - val_accuracy: 0.6929\n",
      "Epoch 41/200\n",
      "514/514 [==============================] - 0s 160us/sample - loss: 0.5740 - accuracy: 0.6984 - val_loss: 0.5992 - val_accuracy: 0.7126\n",
      "Epoch 42/200\n",
      "514/514 [==============================] - 0s 197us/sample - loss: 0.5936 - accuracy: 0.7004 - val_loss: 0.5827 - val_accuracy: 0.7165\n",
      "Epoch 43/200\n",
      "514/514 [==============================] - 0s 197us/sample - loss: 0.5717 - accuracy: 0.7082 - val_loss: 0.5761 - val_accuracy: 0.7047\n",
      "Epoch 44/200\n",
      "514/514 [==============================] - 0s 195us/sample - loss: 0.5745 - accuracy: 0.6965 - val_loss: 0.5759 - val_accuracy: 0.6811\n",
      "Epoch 45/200\n",
      "514/514 [==============================] - 0s 201us/sample - loss: 0.5815 - accuracy: 0.6946 - val_loss: 0.5623 - val_accuracy: 0.7283\n",
      "Epoch 46/200\n",
      "514/514 [==============================] - 0s 196us/sample - loss: 0.5712 - accuracy: 0.7121 - val_loss: 0.5711 - val_accuracy: 0.7126\n",
      "Epoch 47/200\n",
      "514/514 [==============================] - 0s 198us/sample - loss: 0.5677 - accuracy: 0.6926 - val_loss: 0.5878 - val_accuracy: 0.6614\n",
      "Epoch 48/200\n",
      "514/514 [==============================] - 0s 196us/sample - loss: 0.5837 - accuracy: 0.6946 - val_loss: 0.5684 - val_accuracy: 0.7205\n",
      "Epoch 49/200\n",
      "514/514 [==============================] - 0s 200us/sample - loss: 0.5687 - accuracy: 0.7004 - val_loss: 0.5749 - val_accuracy: 0.7087\n",
      "Epoch 50/200\n",
      "514/514 [==============================] - 0s 196us/sample - loss: 0.5732 - accuracy: 0.7023 - val_loss: 0.5658 - val_accuracy: 0.7205\n",
      "Epoch 51/200\n",
      "514/514 [==============================] - 0s 197us/sample - loss: 0.5681 - accuracy: 0.7101 - val_loss: 0.5684 - val_accuracy: 0.6811\n",
      "Epoch 52/200\n",
      "514/514 [==============================] - 0s 197us/sample - loss: 0.5639 - accuracy: 0.7160 - val_loss: 0.6076 - val_accuracy: 0.6299\n",
      "Epoch 53/200\n",
      "514/514 [==============================] - 0s 195us/sample - loss: 0.5741 - accuracy: 0.7140 - val_loss: 0.5645 - val_accuracy: 0.7008\n",
      "Epoch 54/200\n",
      "514/514 [==============================] - 0s 196us/sample - loss: 0.5712 - accuracy: 0.6984 - val_loss: 0.5660 - val_accuracy: 0.7126\n",
      "Epoch 55/200\n",
      "514/514 [==============================] - 0s 193us/sample - loss: 0.5652 - accuracy: 0.7218 - val_loss: 0.5703 - val_accuracy: 0.6575\n",
      "Epoch 56/200\n",
      "514/514 [==============================] - 0s 199us/sample - loss: 0.5633 - accuracy: 0.7198 - val_loss: 0.5820 - val_accuracy: 0.6969\n",
      "Epoch 57/200\n",
      "514/514 [==============================] - 0s 197us/sample - loss: 0.5706 - accuracy: 0.6907 - val_loss: 0.5687 - val_accuracy: 0.7244\n",
      "Epoch 58/200\n",
      "514/514 [==============================] - 0s 202us/sample - loss: 0.5613 - accuracy: 0.7160 - val_loss: 0.5669 - val_accuracy: 0.7283\n",
      "Epoch 59/200\n",
      "514/514 [==============================] - 0s 197us/sample - loss: 0.5675 - accuracy: 0.7023 - val_loss: 0.5647 - val_accuracy: 0.6890\n",
      "Epoch 60/200\n",
      "514/514 [==============================] - 0s 196us/sample - loss: 0.5619 - accuracy: 0.7023 - val_loss: 0.5629 - val_accuracy: 0.7205\n",
      "Epoch 61/200\n",
      "514/514 [==============================] - 0s 194us/sample - loss: 0.5636 - accuracy: 0.7179 - val_loss: 0.5646 - val_accuracy: 0.7126\n",
      "Epoch 62/200\n",
      "514/514 [==============================] - 0s 194us/sample - loss: 0.5576 - accuracy: 0.7296 - val_loss: 0.5609 - val_accuracy: 0.6969\n",
      "Epoch 63/200\n",
      "514/514 [==============================] - 0s 198us/sample - loss: 0.5624 - accuracy: 0.6984 - val_loss: 0.5619 - val_accuracy: 0.6969\n",
      "Epoch 64/200\n",
      "514/514 [==============================] - 0s 194us/sample - loss: 0.5629 - accuracy: 0.7101 - val_loss: 0.5628 - val_accuracy: 0.7047\n",
      "Epoch 65/200\n",
      "514/514 [==============================] - 0s 193us/sample - loss: 0.5579 - accuracy: 0.7160 - val_loss: 0.5798 - val_accuracy: 0.6654\n",
      "Epoch 66/200\n",
      "514/514 [==============================] - 0s 192us/sample - loss: 0.5582 - accuracy: 0.7179 - val_loss: 0.5623 - val_accuracy: 0.7126\n",
      "Epoch 67/200\n",
      "514/514 [==============================] - 0s 194us/sample - loss: 0.5554 - accuracy: 0.7140 - val_loss: 0.5614 - val_accuracy: 0.7087\n",
      "Epoch 68/200\n",
      "514/514 [==============================] - 0s 194us/sample - loss: 0.5539 - accuracy: 0.7276 - val_loss: 0.5715 - val_accuracy: 0.7244\n",
      "Epoch 69/200\n",
      "514/514 [==============================] - 0s 195us/sample - loss: 0.5511 - accuracy: 0.7432 - val_loss: 0.5846 - val_accuracy: 0.6457\n",
      "Epoch 70/200\n",
      "514/514 [==============================] - 0s 194us/sample - loss: 0.5608 - accuracy: 0.7062 - val_loss: 0.5583 - val_accuracy: 0.7283\n",
      "Epoch 71/200\n",
      "514/514 [==============================] - 0s 196us/sample - loss: 0.5504 - accuracy: 0.7335 - val_loss: 0.5592 - val_accuracy: 0.7205\n",
      "Epoch 72/200\n",
      "514/514 [==============================] - 0s 196us/sample - loss: 0.5525 - accuracy: 0.7315 - val_loss: 0.5582 - val_accuracy: 0.7165\n",
      "Epoch 73/200\n",
      "514/514 [==============================] - 0s 195us/sample - loss: 0.5517 - accuracy: 0.7179 - val_loss: 0.5634 - val_accuracy: 0.7047\n",
      "Epoch 74/200\n",
      "514/514 [==============================] - 0s 198us/sample - loss: 0.5510 - accuracy: 0.7237 - val_loss: 0.5629 - val_accuracy: 0.7165\n",
      "Epoch 75/200\n",
      "514/514 [==============================] - 0s 195us/sample - loss: 0.5499 - accuracy: 0.7276 - val_loss: 0.5639 - val_accuracy: 0.7205\n",
      "Epoch 76/200\n",
      "514/514 [==============================] - 0s 195us/sample - loss: 0.5482 - accuracy: 0.7471 - val_loss: 0.5781 - val_accuracy: 0.7205\n",
      "Epoch 77/200\n",
      "514/514 [==============================] - 0s 196us/sample - loss: 0.5550 - accuracy: 0.7160 - val_loss: 0.5690 - val_accuracy: 0.6850\n",
      "Epoch 78/200\n",
      "514/514 [==============================] - 0s 211us/sample - loss: 0.5482 - accuracy: 0.7471 - val_loss: 0.5626 - val_accuracy: 0.7165\n",
      "Epoch 79/200\n",
      "514/514 [==============================] - 0s 137us/sample - loss: 0.5613 - accuracy: 0.7276 - val_loss: 0.5564 - val_accuracy: 0.7165\n",
      "Epoch 80/200\n",
      "514/514 [==============================] - 0s 120us/sample - loss: 0.5487 - accuracy: 0.7160 - val_loss: 0.5607 - val_accuracy: 0.7047\n",
      "Epoch 81/200\n",
      "514/514 [==============================] - 0s 128us/sample - loss: 0.5481 - accuracy: 0.7315 - val_loss: 0.5665 - val_accuracy: 0.7205\n",
      "Epoch 82/200\n",
      "514/514 [==============================] - 0s 122us/sample - loss: 0.5434 - accuracy: 0.7276 - val_loss: 0.5593 - val_accuracy: 0.7165\n",
      "Epoch 83/200\n",
      "514/514 [==============================] - 0s 120us/sample - loss: 0.5426 - accuracy: 0.7393 - val_loss: 0.5659 - val_accuracy: 0.7087\n",
      "Epoch 84/200\n",
      "514/514 [==============================] - 0s 154us/sample - loss: 0.5480 - accuracy: 0.7393 - val_loss: 0.5628 - val_accuracy: 0.7362\n",
      "Epoch 85/200\n",
      "514/514 [==============================] - 0s 176us/sample - loss: 0.5460 - accuracy: 0.7315 - val_loss: 0.5571 - val_accuracy: 0.7244\n",
      "Epoch 86/200\n",
      "514/514 [==============================] - 0s 174us/sample - loss: 0.5398 - accuracy: 0.7315 - val_loss: 0.5491 - val_accuracy: 0.7244\n",
      "Epoch 87/200\n",
      "514/514 [==============================] - 0s 176us/sample - loss: 0.5367 - accuracy: 0.7510 - val_loss: 0.5616 - val_accuracy: 0.7047\n",
      "Epoch 88/200\n",
      "514/514 [==============================] - 0s 174us/sample - loss: 0.5383 - accuracy: 0.7549 - val_loss: 0.5530 - val_accuracy: 0.7205\n",
      "Epoch 89/200\n",
      "514/514 [==============================] - 0s 177us/sample - loss: 0.5452 - accuracy: 0.7374 - val_loss: 0.5582 - val_accuracy: 0.7165\n",
      "Epoch 90/200\n",
      "514/514 [==============================] - 0s 176us/sample - loss: 0.5411 - accuracy: 0.7335 - val_loss: 0.5721 - val_accuracy: 0.7283\n",
      "Epoch 91/200\n",
      "514/514 [==============================] - 0s 175us/sample - loss: 0.5384 - accuracy: 0.7296 - val_loss: 0.5618 - val_accuracy: 0.7087\n",
      "Epoch 92/200\n",
      "514/514 [==============================] - 0s 172us/sample - loss: 0.5452 - accuracy: 0.7296 - val_loss: 0.5577 - val_accuracy: 0.7165\n",
      "Epoch 93/200\n",
      "514/514 [==============================] - 0s 171us/sample - loss: 0.5358 - accuracy: 0.7315 - val_loss: 0.5521 - val_accuracy: 0.7283\n",
      "Epoch 94/200\n",
      "514/514 [==============================] - 0s 174us/sample - loss: 0.5331 - accuracy: 0.7393 - val_loss: 0.5487 - val_accuracy: 0.7205\n",
      "Epoch 95/200\n",
      "514/514 [==============================] - 0s 173us/sample - loss: 0.5327 - accuracy: 0.7646 - val_loss: 0.5660 - val_accuracy: 0.7323\n",
      "Epoch 96/200\n",
      "514/514 [==============================] - 0s 172us/sample - loss: 0.5404 - accuracy: 0.7354 - val_loss: 0.5670 - val_accuracy: 0.7283\n",
      "Epoch 97/200\n",
      "514/514 [==============================] - 0s 174us/sample - loss: 0.5278 - accuracy: 0.7374 - val_loss: 0.5394 - val_accuracy: 0.7362\n",
      "Epoch 98/200\n",
      "514/514 [==============================] - 0s 163us/sample - loss: 0.5295 - accuracy: 0.7335 - val_loss: 0.5485 - val_accuracy: 0.7441\n",
      "Epoch 99/200\n",
      "514/514 [==============================] - 0s 139us/sample - loss: 0.5267 - accuracy: 0.7451 - val_loss: 0.5499 - val_accuracy: 0.7283\n",
      "Epoch 100/200\n",
      "514/514 [==============================] - 0s 135us/sample - loss: 0.5289 - accuracy: 0.7529 - val_loss: 0.5486 - val_accuracy: 0.7362\n",
      "Epoch 101/200\n",
      "514/514 [==============================] - 0s 134us/sample - loss: 0.5255 - accuracy: 0.7335 - val_loss: 0.5481 - val_accuracy: 0.7402\n",
      "Epoch 102/200\n",
      "514/514 [==============================] - 0s 136us/sample - loss: 0.5207 - accuracy: 0.7471 - val_loss: 0.5541 - val_accuracy: 0.7205\n",
      "Epoch 103/200\n",
      "514/514 [==============================] - 0s 136us/sample - loss: 0.5266 - accuracy: 0.7412 - val_loss: 0.5522 - val_accuracy: 0.7362\n",
      "Epoch 104/200\n",
      "514/514 [==============================] - 0s 148us/sample - loss: 0.5190 - accuracy: 0.7529 - val_loss: 0.5525 - val_accuracy: 0.7244\n",
      "Epoch 105/200\n",
      "514/514 [==============================] - 0s 150us/sample - loss: 0.5175 - accuracy: 0.7607 - val_loss: 0.5419 - val_accuracy: 0.7441\n",
      "Epoch 106/200\n",
      "514/514 [==============================] - 0s 147us/sample - loss: 0.5206 - accuracy: 0.7432 - val_loss: 0.5470 - val_accuracy: 0.7520\n",
      "Epoch 107/200\n",
      "514/514 [==============================] - 0s 189us/sample - loss: 0.5139 - accuracy: 0.7529 - val_loss: 0.5574 - val_accuracy: 0.7244\n",
      "Epoch 108/200\n",
      "514/514 [==============================] - 0s 136us/sample - loss: 0.5297 - accuracy: 0.7451 - val_loss: 0.5389 - val_accuracy: 0.7402\n",
      "Epoch 109/200\n",
      "514/514 [==============================] - 0s 126us/sample - loss: 0.5172 - accuracy: 0.7588 - val_loss: 0.5967 - val_accuracy: 0.7126\n",
      "Epoch 110/200\n",
      "514/514 [==============================] - 0s 121us/sample - loss: 0.5211 - accuracy: 0.7490 - val_loss: 0.5336 - val_accuracy: 0.7559\n",
      "Epoch 111/200\n",
      "514/514 [==============================] - 0s 126us/sample - loss: 0.5100 - accuracy: 0.7510 - val_loss: 0.5388 - val_accuracy: 0.7323\n",
      "Epoch 112/200\n",
      "514/514 [==============================] - 0s 137us/sample - loss: 0.5184 - accuracy: 0.7510 - val_loss: 0.5336 - val_accuracy: 0.7362\n",
      "Epoch 113/200\n",
      "514/514 [==============================] - 0s 150us/sample - loss: 0.5203 - accuracy: 0.7393 - val_loss: 0.5744 - val_accuracy: 0.7008\n",
      "Epoch 114/200\n",
      "514/514 [==============================] - 0s 152us/sample - loss: 0.5277 - accuracy: 0.7471 - val_loss: 0.5593 - val_accuracy: 0.7283\n",
      "Epoch 115/200\n",
      "514/514 [==============================] - 0s 183us/sample - loss: 0.5225 - accuracy: 0.7490 - val_loss: 0.5720 - val_accuracy: 0.7126\n",
      "Epoch 116/200\n",
      "514/514 [==============================] - 0s 126us/sample - loss: 0.5269 - accuracy: 0.7296 - val_loss: 0.5429 - val_accuracy: 0.7402\n",
      "Epoch 117/200\n",
      "514/514 [==============================] - 0s 118us/sample - loss: 0.5259 - accuracy: 0.7412 - val_loss: 0.5272 - val_accuracy: 0.7638\n",
      "Epoch 118/200\n",
      "514/514 [==============================] - 0s 126us/sample - loss: 0.5108 - accuracy: 0.7626 - val_loss: 0.5321 - val_accuracy: 0.7598\n",
      "Epoch 119/200\n",
      "514/514 [==============================] - 0s 119us/sample - loss: 0.5142 - accuracy: 0.7471 - val_loss: 0.5375 - val_accuracy: 0.7559\n",
      "Epoch 120/200\n",
      "514/514 [==============================] - 0s 121us/sample - loss: 0.5182 - accuracy: 0.7412 - val_loss: 0.5394 - val_accuracy: 0.7441\n",
      "Epoch 121/200\n",
      "514/514 [==============================] - 0s 118us/sample - loss: 0.5099 - accuracy: 0.7451 - val_loss: 0.5449 - val_accuracy: 0.7402\n",
      "Epoch 122/200\n",
      "514/514 [==============================] - 0s 124us/sample - loss: 0.5088 - accuracy: 0.7607 - val_loss: 0.5437 - val_accuracy: 0.7441\n",
      "Epoch 123/200\n",
      "514/514 [==============================] - 0s 123us/sample - loss: 0.5102 - accuracy: 0.7471 - val_loss: 0.5372 - val_accuracy: 0.7480\n",
      "Epoch 124/200\n",
      "514/514 [==============================] - 0s 130us/sample - loss: 0.5185 - accuracy: 0.7432 - val_loss: 0.5269 - val_accuracy: 0.7598\n",
      "Epoch 125/200\n",
      "514/514 [==============================] - 0s 120us/sample - loss: 0.5070 - accuracy: 0.7510 - val_loss: 0.5304 - val_accuracy: 0.7520\n",
      "Epoch 126/200\n",
      "514/514 [==============================] - 0s 123us/sample - loss: 0.5126 - accuracy: 0.7490 - val_loss: 0.5340 - val_accuracy: 0.7480\n",
      "Epoch 127/200\n",
      "514/514 [==============================] - 0s 121us/sample - loss: 0.5088 - accuracy: 0.7665 - val_loss: 0.5418 - val_accuracy: 0.7480\n",
      "Epoch 128/200\n",
      "514/514 [==============================] - 0s 120us/sample - loss: 0.5125 - accuracy: 0.7432 - val_loss: 0.5473 - val_accuracy: 0.7362\n",
      "Epoch 129/200\n",
      "514/514 [==============================] - 0s 150us/sample - loss: 0.5047 - accuracy: 0.7646 - val_loss: 0.5195 - val_accuracy: 0.7559\n",
      "Epoch 130/200\n",
      "514/514 [==============================] - 0s 222us/sample - loss: 0.5186 - accuracy: 0.7432 - val_loss: 0.5326 - val_accuracy: 0.7480\n",
      "Epoch 131/200\n",
      "514/514 [==============================] - 0s 225us/sample - loss: 0.5046 - accuracy: 0.7665 - val_loss: 0.5480 - val_accuracy: 0.7283\n",
      "Epoch 132/200\n",
      "514/514 [==============================] - 0s 227us/sample - loss: 0.4988 - accuracy: 0.7510 - val_loss: 0.5207 - val_accuracy: 0.7638\n",
      "Epoch 133/200\n",
      "514/514 [==============================] - 0s 221us/sample - loss: 0.5112 - accuracy: 0.7432 - val_loss: 0.5424 - val_accuracy: 0.7362\n",
      "Epoch 134/200\n",
      "514/514 [==============================] - 0s 221us/sample - loss: 0.5134 - accuracy: 0.7490 - val_loss: 0.5282 - val_accuracy: 0.7520\n",
      "Epoch 135/200\n",
      "514/514 [==============================] - 0s 164us/sample - loss: 0.4987 - accuracy: 0.7646 - val_loss: 0.5362 - val_accuracy: 0.7362\n",
      "Epoch 136/200\n",
      "514/514 [==============================] - 0s 140us/sample - loss: 0.5028 - accuracy: 0.7549 - val_loss: 0.5213 - val_accuracy: 0.7520\n",
      "Epoch 137/200\n",
      "514/514 [==============================] - 0s 151us/sample - loss: 0.4984 - accuracy: 0.7568 - val_loss: 0.5240 - val_accuracy: 0.7520\n",
      "Epoch 138/200\n",
      "514/514 [==============================] - 0s 158us/sample - loss: 0.4950 - accuracy: 0.7763 - val_loss: 0.5372 - val_accuracy: 0.7441\n",
      "Epoch 139/200\n",
      "514/514 [==============================] - 0s 153us/sample - loss: 0.4992 - accuracy: 0.7743 - val_loss: 0.5174 - val_accuracy: 0.7677\n",
      "Epoch 140/200\n",
      "514/514 [==============================] - 0s 157us/sample - loss: 0.4918 - accuracy: 0.7568 - val_loss: 0.5266 - val_accuracy: 0.7638\n",
      "Epoch 141/200\n",
      "514/514 [==============================] - 0s 224us/sample - loss: 0.4961 - accuracy: 0.7626 - val_loss: 0.5258 - val_accuracy: 0.7559\n",
      "Epoch 142/200\n",
      "514/514 [==============================] - 0s 221us/sample - loss: 0.4933 - accuracy: 0.7626 - val_loss: 0.5445 - val_accuracy: 0.7480\n",
      "Epoch 143/200\n",
      "514/514 [==============================] - 0s 222us/sample - loss: 0.5000 - accuracy: 0.7646 - val_loss: 0.5332 - val_accuracy: 0.7402\n",
      "Epoch 144/200\n",
      "514/514 [==============================] - 0s 220us/sample - loss: 0.4899 - accuracy: 0.7568 - val_loss: 0.5381 - val_accuracy: 0.7323\n",
      "Epoch 145/200\n",
      "514/514 [==============================] - 0s 224us/sample - loss: 0.4956 - accuracy: 0.7529 - val_loss: 0.5311 - val_accuracy: 0.7520\n",
      "Epoch 146/200\n",
      "514/514 [==============================] - 0s 224us/sample - loss: 0.4880 - accuracy: 0.7568 - val_loss: 0.5187 - val_accuracy: 0.7717\n",
      "Epoch 147/200\n",
      "514/514 [==============================] - 0s 267us/sample - loss: 0.4878 - accuracy: 0.7685 - val_loss: 0.5351 - val_accuracy: 0.7480\n",
      "Epoch 148/200\n",
      "514/514 [==============================] - 0s 262us/sample - loss: 0.4975 - accuracy: 0.7490 - val_loss: 0.5254 - val_accuracy: 0.7598\n",
      "Epoch 149/200\n",
      "514/514 [==============================] - 0s 245us/sample - loss: 0.4886 - accuracy: 0.7471 - val_loss: 0.5253 - val_accuracy: 0.7402\n",
      "Epoch 150/200\n",
      "514/514 [==============================] - 0s 211us/sample - loss: 0.4899 - accuracy: 0.7432 - val_loss: 0.5425 - val_accuracy: 0.7480\n",
      "Epoch 151/200\n",
      "514/514 [==============================] - 0s 212us/sample - loss: 0.5210 - accuracy: 0.7393 - val_loss: 0.5205 - val_accuracy: 0.7717\n",
      "Epoch 152/200\n",
      "514/514 [==============================] - 0s 214us/sample - loss: 0.4949 - accuracy: 0.7549 - val_loss: 0.5220 - val_accuracy: 0.7559\n",
      "Epoch 153/200\n",
      "514/514 [==============================] - 0s 247us/sample - loss: 0.4857 - accuracy: 0.7607 - val_loss: 0.5397 - val_accuracy: 0.7480\n",
      "Epoch 154/200\n",
      "514/514 [==============================] - 0s 228us/sample - loss: 0.4969 - accuracy: 0.7626 - val_loss: 0.5193 - val_accuracy: 0.7677\n",
      "Epoch 155/200\n",
      "514/514 [==============================] - 0s 195us/sample - loss: 0.4899 - accuracy: 0.7607 - val_loss: 0.5077 - val_accuracy: 0.7795\n",
      "Epoch 156/200\n",
      "514/514 [==============================] - 0s 175us/sample - loss: 0.4887 - accuracy: 0.7529 - val_loss: 0.5130 - val_accuracy: 0.7795\n",
      "Epoch 157/200\n",
      "514/514 [==============================] - 0s 179us/sample - loss: 0.4856 - accuracy: 0.7646 - val_loss: 0.5129 - val_accuracy: 0.7756\n",
      "Epoch 158/200\n",
      "514/514 [==============================] - 0s 175us/sample - loss: 0.4846 - accuracy: 0.7665 - val_loss: 0.5146 - val_accuracy: 0.7717\n",
      "Epoch 159/200\n",
      "514/514 [==============================] - 0s 174us/sample - loss: 0.4806 - accuracy: 0.7802 - val_loss: 0.5243 - val_accuracy: 0.7638\n",
      "Epoch 160/200\n",
      "514/514 [==============================] - 0s 172us/sample - loss: 0.5014 - accuracy: 0.7510 - val_loss: 0.5092 - val_accuracy: 0.7480\n",
      "Epoch 161/200\n",
      "514/514 [==============================] - 0s 174us/sample - loss: 0.4837 - accuracy: 0.7529 - val_loss: 0.5207 - val_accuracy: 0.7559\n",
      "Epoch 162/200\n",
      "514/514 [==============================] - 0s 177us/sample - loss: 0.4868 - accuracy: 0.7685 - val_loss: 0.5075 - val_accuracy: 0.7795\n",
      "Epoch 163/200\n",
      "514/514 [==============================] - 0s 158us/sample - loss: 0.4827 - accuracy: 0.7588 - val_loss: 0.5076 - val_accuracy: 0.7598\n",
      "Epoch 164/200\n",
      "514/514 [==============================] - 0s 135us/sample - loss: 0.4815 - accuracy: 0.7646 - val_loss: 0.5321 - val_accuracy: 0.7362\n",
      "Epoch 165/200\n",
      "514/514 [==============================] - 0s 133us/sample - loss: 0.4791 - accuracy: 0.7646 - val_loss: 0.5136 - val_accuracy: 0.7559\n",
      "Epoch 166/200\n",
      "514/514 [==============================] - 0s 132us/sample - loss: 0.4983 - accuracy: 0.7626 - val_loss: 0.5063 - val_accuracy: 0.7638\n",
      "Epoch 167/200\n",
      "514/514 [==============================] - 0s 132us/sample - loss: 0.4766 - accuracy: 0.7724 - val_loss: 0.5043 - val_accuracy: 0.7717\n",
      "Epoch 168/200\n",
      "514/514 [==============================] - 0s 161us/sample - loss: 0.4947 - accuracy: 0.7412 - val_loss: 0.5450 - val_accuracy: 0.7283\n",
      "Epoch 169/200\n",
      "514/514 [==============================] - 0s 145us/sample - loss: 0.4800 - accuracy: 0.7704 - val_loss: 0.5192 - val_accuracy: 0.7717\n",
      "Epoch 170/200\n",
      "514/514 [==============================] - 0s 150us/sample - loss: 0.4790 - accuracy: 0.7568 - val_loss: 0.5056 - val_accuracy: 0.7559\n",
      "Epoch 171/200\n",
      "514/514 [==============================] - 0s 194us/sample - loss: 0.4820 - accuracy: 0.7704 - val_loss: 0.5265 - val_accuracy: 0.7677\n",
      "Epoch 172/200\n",
      "514/514 [==============================] - 0s 178us/sample - loss: 0.4768 - accuracy: 0.7626 - val_loss: 0.5163 - val_accuracy: 0.7638\n",
      "Epoch 173/200\n",
      "514/514 [==============================] - 0s 191us/sample - loss: 0.4893 - accuracy: 0.7568 - val_loss: 0.5088 - val_accuracy: 0.7598\n",
      "Epoch 174/200\n",
      "514/514 [==============================] - 0s 168us/sample - loss: 0.4873 - accuracy: 0.7685 - val_loss: 0.5088 - val_accuracy: 0.7559\n",
      "Epoch 175/200\n",
      "514/514 [==============================] - 0s 145us/sample - loss: 0.4864 - accuracy: 0.7471 - val_loss: 0.5127 - val_accuracy: 0.7756\n",
      "Epoch 176/200\n",
      "514/514 [==============================] - 0s 132us/sample - loss: 0.4848 - accuracy: 0.7665 - val_loss: 0.5079 - val_accuracy: 0.7756\n",
      "Epoch 177/200\n",
      "514/514 [==============================] - 0s 131us/sample - loss: 0.4741 - accuracy: 0.7685 - val_loss: 0.5152 - val_accuracy: 0.7559\n",
      "Epoch 178/200\n",
      "514/514 [==============================] - 0s 134us/sample - loss: 0.4821 - accuracy: 0.7685 - val_loss: 0.5004 - val_accuracy: 0.7559\n",
      "Epoch 179/200\n",
      "514/514 [==============================] - 0s 133us/sample - loss: 0.4830 - accuracy: 0.7607 - val_loss: 0.5043 - val_accuracy: 0.7638\n",
      "Epoch 180/200\n",
      "514/514 [==============================] - 0s 165us/sample - loss: 0.4767 - accuracy: 0.7646 - val_loss: 0.5082 - val_accuracy: 0.7677\n",
      "Epoch 181/200\n",
      "514/514 [==============================] - 0s 162us/sample - loss: 0.4889 - accuracy: 0.7626 - val_loss: 0.4999 - val_accuracy: 0.7638\n",
      "Epoch 182/200\n",
      "514/514 [==============================] - 0s 160us/sample - loss: 0.4696 - accuracy: 0.7743 - val_loss: 0.5042 - val_accuracy: 0.7677\n",
      "Epoch 183/200\n",
      "514/514 [==============================] - 0s 161us/sample - loss: 0.4782 - accuracy: 0.7549 - val_loss: 0.5033 - val_accuracy: 0.7677\n",
      "Epoch 184/200\n",
      "514/514 [==============================] - 0s 181us/sample - loss: 0.4751 - accuracy: 0.7665 - val_loss: 0.5022 - val_accuracy: 0.7717\n",
      "Epoch 185/200\n",
      "514/514 [==============================] - 0s 162us/sample - loss: 0.4700 - accuracy: 0.7665 - val_loss: 0.5056 - val_accuracy: 0.7756\n",
      "Epoch 186/200\n",
      "514/514 [==============================] - 0s 158us/sample - loss: 0.4778 - accuracy: 0.7821 - val_loss: 0.5130 - val_accuracy: 0.7520\n",
      "Epoch 187/200\n",
      "514/514 [==============================] - 0s 166us/sample - loss: 0.4687 - accuracy: 0.7646 - val_loss: 0.5048 - val_accuracy: 0.7638\n",
      "Epoch 188/200\n",
      "514/514 [==============================] - 0s 174us/sample - loss: 0.4690 - accuracy: 0.7704 - val_loss: 0.5041 - val_accuracy: 0.7717\n",
      "Epoch 189/200\n",
      "514/514 [==============================] - 0s 172us/sample - loss: 0.4663 - accuracy: 0.7743 - val_loss: 0.5349 - val_accuracy: 0.7402\n",
      "Epoch 190/200\n",
      "514/514 [==============================] - 0s 170us/sample - loss: 0.4805 - accuracy: 0.7451 - val_loss: 0.5020 - val_accuracy: 0.7756\n",
      "Epoch 191/200\n",
      "514/514 [==============================] - 0s 158us/sample - loss: 0.4718 - accuracy: 0.7802 - val_loss: 0.5167 - val_accuracy: 0.7520\n",
      "Epoch 192/200\n",
      "514/514 [==============================] - 0s 162us/sample - loss: 0.4790 - accuracy: 0.7549 - val_loss: 0.4999 - val_accuracy: 0.7835\n",
      "Epoch 193/200\n",
      "514/514 [==============================] - 0s 161us/sample - loss: 0.4739 - accuracy: 0.7607 - val_loss: 0.5004 - val_accuracy: 0.7638\n",
      "Epoch 194/200\n",
      "514/514 [==============================] - 0s 158us/sample - loss: 0.4759 - accuracy: 0.7646 - val_loss: 0.4996 - val_accuracy: 0.7835\n",
      "Epoch 195/200\n",
      "514/514 [==============================] - 0s 169us/sample - loss: 0.4665 - accuracy: 0.7763 - val_loss: 0.5007 - val_accuracy: 0.7559\n",
      "Epoch 196/200\n",
      "514/514 [==============================] - 0s 173us/sample - loss: 0.4766 - accuracy: 0.7588 - val_loss: 0.5079 - val_accuracy: 0.7638\n",
      "Epoch 197/200\n",
      "514/514 [==============================] - 0s 175us/sample - loss: 0.4674 - accuracy: 0.7724 - val_loss: 0.5335 - val_accuracy: 0.7520\n",
      "Epoch 198/200\n",
      "514/514 [==============================] - 0s 171us/sample - loss: 0.4707 - accuracy: 0.7607 - val_loss: 0.4981 - val_accuracy: 0.7835\n",
      "Epoch 199/200\n",
      "514/514 [==============================] - 0s 160us/sample - loss: 0.4627 - accuracy: 0.7743 - val_loss: 0.4975 - val_accuracy: 0.7756\n",
      "Epoch 200/200\n",
      "514/514 [==============================] - 0s 160us/sample - loss: 0.4759 - accuracy: 0.7549 - val_loss: 0.5154 - val_accuracy: 0.7677\n"
     ]
    }
   ],
   "source": [
    "# Fit the model\n",
    "history = model.fit(X, Y, validation_split=0.33, epochs=200, batch_size=10, verbose=1)"
   ]
  },
  {
   "cell_type": "code",
   "execution_count": 8,
   "metadata": {},
   "outputs": [
    {
     "name": "stdout",
     "output_type": "stream",
     "text": [
      "dict_keys(['loss', 'accuracy', 'val_loss', 'val_accuracy'])\n"
     ]
    }
   ],
   "source": [
    "# list all data in history\n",
    "print(history.history.keys())"
   ]
  },
  {
   "cell_type": "code",
   "execution_count": 9,
   "metadata": {},
   "outputs": [
    {
     "data": {
      "image/png": "[encoded data removed]",
      "text/plain": [
       "<Figure size 864x576 with 1 Axes>"
      ]
     },
     "metadata": {
      "needs_background": "light"
     },
     "output_type": "display_data"
    }
   ],
   "source": [
    "# summarize history for accuracy\n",
    "plt.figure(figsize=(12,8))\n",
    "plt.plot(history.history['accuracy'])\n",
    "plt.plot(history.history['val_accuracy'])\n",
    "plt.title('model accuracy')\n",
    "plt.ylabel('accuracy')\n",
    "plt.xlabel('epoch')\n",
    "plt.legend(['train', 'test'], loc='upper left')\n",
    "plt.show()"
   ]
  },
  {
   "cell_type": "code",
   "execution_count": 10,
   "metadata": {},
   "outputs": [
    {
     "data": {
      "image/png": "[encoded data removed]",
      "text/plain": [
       "<Figure size 864x576 with 1 Axes>"
      ]
     },
     "metadata": {
      "needs_background": "light"
     },
     "output_type": "display_data"
    }
   ],
   "source": [
    "# summarize history for loss\n",
    "plt.figure(figsize=(12,8))\n",
    "plt.plot(history.history['loss'])\n",
    "plt.plot(history.history['val_loss'])\n",
    "plt.title('model loss')\n",
    "plt.ylabel('loss')\n",
    "plt.xlabel('epoch')\n",
    "plt.legend(['train', 'test'], loc='upper left')\n",
    "plt.show()"
   ]
  },
  {
   "cell_type": "code",
   "execution_count": 11,
   "metadata": {},
   "outputs": [
    {
     "name": "stdout",
     "output_type": "stream",
     "text": [
      "768/1 [================================================================================================================================================================================================================================================================================================================================================================================================================================================================================================================================================================================================================================================================================================================================================================================================================================================================================================================================================================================================================================================================================================================================================================================================================================================================================================================================================================================================================================================================================================================================================================================================================================================================================================================================================================================================================================================================================================================================================================================================================================================================================================================================================================================================================================================================================================================================================================================================================================================================================================================================================================================================================================================================================================================================================================================================================================================================================================================================================================================================================================================================================================================================================================================================================================================================================================================================================================================================================================================================================================================================================================================================================================================================================================================================================================================================================================================================================================================================================================================================================================================================================================================================================================================================================================================================================================================================================================================================================================================================================================================================================================================================================================================================================================================================================================================================================================================================================================================================================================================================================================================================================================================================================================================================================================================================================================================================================================================================================================================================================================================================================================================================================================================================================================================================================================================================================================================================================================================================================================================================================================================================================================================================================================================================================================================================================================================================================================================================================================================================================================================================================================================================================================================================================================================================================================================================================================================================================================================================================================================================================================================================================================================================================================================================================================================================================================================================================================================================================================================================================================================================================================================================================================================================================================================================================================================================================================================================================================================================================================================================================================================================================================================================================================================================================================================================================================================================================================================================================================================================================================================================================================================================================================================================================================================================================================================================================================================================================================================================================================================================================================================================================================================================================================================================================================================================================================================================================================================================================================================================================================================================================================================================================================================================================================================================================================================================================================================================================================================================================================================================================================================================================================================================================================================================================================================================================================================================================================================================================================================================================================================================================================================================================================================================================================================================================================================================================================================================================================================================================================================================================================================================================================================================================================================================================================================================================================================================================================================================================================================================================================================================================================================================================================================================================================================================================================================================================================================================================================================================================================================================================================================================================================================================================================================================================================================================================================================================================================================================================================================================================================================================================================================================================================================================================================================================================================================================================================================================================================================================================================================================================================================================================================================================================================================================================================================================================================================================================================================================================================================================================================================================================================================================================================================================================================================================================================================================================================================================================================================================================================================================================================================================================================================================================================================================================================================================================================================================================================================================================================================================================================================================================================================================================================================================================================================================================================================================================================================================================================================================================================================================================================================================================================================================================================================================================================================================================================================================================================================================================================================================================================================================================================================================================================================================================================================================================================================================================================================================================================================================================================================================================================================================================================================================================================================================================================================================================================================================================================================================================================================================================================================================================================================================================================================================================================================================================================================================================================================================================================================================================================================================================================================================================================================================================================================================================================================================================================================================================================================================================================================================================================================================================================================================================================================================================================================================================================================================================================================================================================================================================================================================================================================================================================================================================================================================================================================================================================================================================================================================================================================================================================================================================================================================================================================================================================================================================================================================================================================================================================================================================================================================================================================================================================================================================================================================================================================================================================================================================================================================================================================================================================================================================================================================================================================================================================================================================================================================================================================================================================================================================================================================================================================================================================================================================================================================================================================================================================================================================================================================================================================================================================================================================================================================================================================================================================================================================================================================================================================================================================================================================================================================================================================================================================================================================================================================================================================================================================================================================================================================================================================================================================================================================================================================================================================================================================================================================================================================================================================================================================================================================================================================================================================================================================================================================================================================================================================================================================================================================================================================================================================================================================================================================================================================================================================================================================================================================================================================================================================================================================================================================================================================================================================================================================================================================================================================================================================================================================================================================================================================================================================================================================================================================================================================================================================================================================================================================================================================================================================================================================================================================================================================] - 0s 79us/sample - loss: 0.5338 - accuracy: 0.7734\n",
      "\n",
      "accuracy: 77.34%\n"
     ]
    }
   ],
   "source": [
    "# evaluate the model\n",
    "scores = model.evaluate(X, Y)\n",
    "print(\"\\n%s: %.2f%%\" % (model.metrics_names[1], scores[1]*100))"
   ]
  },
  {
   "cell_type": "code",
   "execution_count": 12,
   "metadata": {},
   "outputs": [
    {
     "name": "stdout",
     "output_type": "stream",
     "text": [
      "[[0.5846371 ]\n",
      " [0.15142748]\n",
      " [0.86555266]\n",
      " [0.15150729]\n",
      " [0.8631811 ]\n",
      " [0.29945767]\n",
      " [0.30867454]\n",
      " [0.736957  ]\n",
      " [0.90795135]\n",
      " [0.17849287]]\n",
      "\n",
      "[1.0, 0.0, 1.0, 0.0, 1.0, 0.0, 0.0, 1.0, 1.0, 0.0]\n"
     ]
    }
   ],
   "source": [
    "# calculate predictions\n",
    "predictions = model.predict(X)\n",
    "print(predictions[0:10])\n",
    "\n",
    "print()\n",
    "\n",
    "# round predictions\n",
    "rounded = [round(x[0]) for x in predictions]\n",
    "print(rounded[0:10])"
   ]
  },
  {
   "cell_type": "markdown",
   "metadata": {},
   "source": [
    "### Develop a Small LSTM Recurrent Neural Network\n",
    "\n",
    "Based on this [post](https://machinelearningmastery.com/text-generation-lstm-recurrent-neural-networks-python-keras/)\n",
    "\n",
    "In this section we will develop a simple LSTM network to learn sequences of characters from Alice in Wonderland. In the next section we will use this model to generate new sequences of characters."
   ]
  },
  {
   "cell_type": "markdown",
   "metadata": {},
   "source": [
    "Next, we need to load the ASCII text for the book into memory and convert all of the characters to lowercase to reduce the vocabulary that the network must learn."
   ]
  },
  {
   "cell_type": "code",
   "execution_count": 13,
   "metadata": {},
   "outputs": [],
   "source": [
    "# load ascii text and covert to lowercase\n",
    "filename = \"../datasets/Texts/Gutenberg/wonderland.txt\"\n",
    "raw_text = open(filename).read()\n",
    "raw_text = raw_text.lower()"
   ]
  },
  {
   "cell_type": "code",
   "execution_count": 14,
   "metadata": {},
   "outputs": [
    {
     "data": {
      "text/plain": [
       "144987"
      ]
     },
     "execution_count": 14,
     "metadata": {},
     "output_type": "execute_result"
    }
   ],
   "source": [
    "raw_text.find('happy summer days.\\n\\n')"
   ]
  },
  {
   "cell_type": "code",
   "execution_count": 15,
   "metadata": {},
   "outputs": [],
   "source": [
    "raw_text = raw_text[:145000]"
   ]
  },
  {
   "cell_type": "markdown",
   "metadata": {},
   "source": [
    "Cleaning the text:"
   ]
  },
  {
   "cell_type": "code",
   "execution_count": 16,
   "metadata": {},
   "outputs": [],
   "source": [
    "raw_text = raw_text[raw_text.find('\\n\\n\\n\\n'):]\n",
    "raw_text = re.sub(r'[\\n ]+',' ', raw_text)\n",
    "\n",
    "import string\n",
    "for char in string.punctuation:\n",
    "    raw_text = raw_text.replace(char, ' ')\n",
    "\n",
    "raw_text = raw_text.replace('  ', ' ')\n",
    "raw_text = raw_text.replace('  ', ' ')"
   ]
  },
  {
   "cell_type": "markdown",
   "metadata": {},
   "source": [
    "Now that the book is loaded, we must prepare the data for modeling by the neural network. We cannot model the characters directly, instead we must convert the characters to integers.\n",
    "\n",
    "We can do this easily by first creating a set of all of the distinct characters in the book, then creating a map of each character to a unique integer."
   ]
  },
  {
   "cell_type": "code",
   "execution_count": 17,
   "metadata": {},
   "outputs": [],
   "source": [
    "# create mapping of unique chars to integers\n",
    "chars = sorted(list(set(raw_text)))\n",
    "char_to_int = dict((c, i) for i, c in enumerate(chars))"
   ]
  },
  {
   "cell_type": "markdown",
   "metadata": {},
   "source": [
    "For example, the list of unique sorted lowercase characters in the book is as follows:"
   ]
  },
  {
   "cell_type": "code",
   "execution_count": 18,
   "metadata": {},
   "outputs": [
    {
     "data": {
      "text/plain": [
       "{' ': 0,\n",
       " '0': 1,\n",
       " '3': 2,\n",
       " 'a': 3,\n",
       " 'b': 4,\n",
       " 'c': 5,\n",
       " 'd': 6,\n",
       " 'e': 7,\n",
       " 'f': 8,\n",
       " 'g': 9,\n",
       " 'h': 10,\n",
       " 'i': 11,\n",
       " 'j': 12,\n",
       " 'k': 13,\n",
       " 'l': 14,\n",
       " 'm': 15,\n",
       " 'n': 16,\n",
       " 'o': 17,\n",
       " 'p': 18,\n",
       " 'q': 19,\n",
       " 'r': 20,\n",
       " 's': 21,\n",
       " 't': 22,\n",
       " 'u': 23,\n",
       " 'v': 24,\n",
       " 'w': 25,\n",
       " 'x': 26,\n",
       " 'y': 27,\n",
       " 'z': 28}"
      ]
     },
     "execution_count": 18,
     "metadata": {},
     "output_type": "execute_result"
    }
   ],
   "source": [
    "char_to_int"
   ]
  },
  {
   "cell_type": "markdown",
   "metadata": {},
   "source": [
    "You can see that there may be some characters that we could remove to further clean up the dataset that will reduce the vocabulary and may improve the modeling process.\n",
    "\n",
    "Now that the book has been loaded and the mapping prepared, we can summarize the dataset."
   ]
  },
  {
   "cell_type": "code",
   "execution_count": 19,
   "metadata": {},
   "outputs": [
    {
     "name": "stdout",
     "output_type": "stream",
     "text": [
      "Total Characters:  135172\n",
      "Total Vocab:  29\n"
     ]
    }
   ],
   "source": [
    "n_chars = len(raw_text)\n",
    "n_vocab = len(chars)\n",
    "print(\"Total Characters: \", n_chars)\n",
    "print(\"Total Vocab: \", n_vocab)"
   ]
  },
  {
   "cell_type": "markdown",
   "metadata": {},
   "source": [
    "We can see that the book has just under 150,000 characters and that when converted to lowercase that there are only 37 distinct characters in the vocabulary for the network to learn. Much more than the 26 in the alphabet.\n",
    "\n",
    "We now need to define the training data for the network. There is a lot of flexibility in how you choose to break up the text and expose it to the network during training.\n",
    "\n",
    "In this tutorial we will split the book text up into subsequences with a fixed length of 100 characters, an arbitrary length. We could just as easily split the data up by sentences and pad the shorter sequences and truncate the longer ones.\n",
    "\n",
    "Each training pattern of the network is comprised of 100 time steps of one character (X) followed by one character output (y). When creating these sequences, we slide this window along the whole book one character at a time, allowing each character a chance to be learned from the 100 characters that preceded it (except the first 100 characters of course).\n",
    "\n",
    "For example, if the sequence length is 5 (for simplicity) then the first two training patterns would be as follows:  \n",
    "\n",
    "CHAPT -> E\n",
    "HAPTE -> R\n",
    "\n",
    "As we split up the book into these sequences, we convert the characters to integers using our lookup table we prepared earlier.  "
   ]
  },
  {
   "cell_type": "code",
   "execution_count": 20,
   "metadata": {},
   "outputs": [
    {
     "name": "stdout",
     "output_type": "stream",
     "text": [
      "Total Patterns:  135072\n"
     ]
    }
   ],
   "source": [
    "# prepare the dataset of input to output pairs encoded as integers\n",
    "seq_length = 100\n",
    "dataX = []\n",
    "dataY = []\n",
    "for i in range(0, n_chars - seq_length, 1):\n",
    "    seq_in = raw_text[i:i + seq_length]\n",
    "    seq_out = raw_text[i + seq_length]\n",
    "    dataX.append([char_to_int[char] for char in seq_in])\n",
    "    dataY.append(char_to_int[seq_out])\n",
    "n_patterns = len(dataX)\n",
    "print(\"Total Patterns: \", n_patterns)"
   ]
  },
  {
   "cell_type": "markdown",
   "metadata": {},
   "source": [
    "Running the code to this point shows us that when we split up the dataset into training data for the network to learn that we have just under 150,000 training pattens. This makes sense as excluding the first 100 characters, we have one training pattern to predict each of the remaining characters.  "
   ]
  },
  {
   "cell_type": "markdown",
   "metadata": {},
   "source": [
    "Now that we have prepared our training data we need to transform it so that it is suitable for use with Keras.\n",
    "\n",
    "First we must transform the list of input sequences into the form [samples, time steps, features] expected by an LSTM network.\n",
    "\n",
    "Next we need to rescale the integers to the range 0-to-1 to make the patterns easier to learn by the LSTM network that uses the sigmoid activation function by default.\n",
    "\n",
    "Finally, we need to convert the output patterns (single characters converted to integers) into a one hot encoding. This is so that we can configure the network to predict the probability of each of the 47 different characters in the vocabulary (an easier representation) rather than trying to force it to predict precisely the next character. Each y value is converted into a sparse vector with a length of 47, full of zeros except with a 1 in the column for the letter (integer) that the pattern represents.\n",
    "\n",
    "We can implement these steps as below.  "
   ]
  },
  {
   "cell_type": "code",
   "execution_count": 21,
   "metadata": {},
   "outputs": [],
   "source": [
    "# reshape X to be [samples, time steps, features]\n",
    "X = numpy.reshape(dataX, (n_patterns, seq_length, 1))\n",
    "# normalize\n",
    "X = X / float(n_vocab)\n",
    "# one hot encode the output variable\n",
    "y = tf.keras.utils.to_categorical(dataY)"
   ]
  },
  {
   "cell_type": "markdown",
   "metadata": {},
   "source": [
    "We can now define our LSTM model. Here we define a single hidden LSTM layer with 256 memory units. The network uses dropout with a probability of 20. The output layer is a Dense layer using the softmax activation function to output a probability prediction for each of the 47 characters between 0 and 1.\n",
    "\n",
    "The problem is really a single character classification problem with 47 classes and as such is defined as optimizing the log loss (cross entropy), here using the ADAM optimization algorithm for speed."
   ]
  },
  {
   "cell_type": "code",
   "execution_count": 22,
   "metadata": {},
   "outputs": [],
   "source": [
    "# define the LSTM model\n",
    "model = tf.keras.Sequential()\n",
    "model.add(tf.keras.layers.LSTM(256, input_shape=(X.shape[1], X.shape[2])))\n",
    "model.add(tf.keras.layers.Dropout(0.2))\n",
    "model.add(tf.keras.layers.Dense(y.shape[1], activation='softmax'))\n",
    "model.compile(loss='categorical_crossentropy', optimizer='adam')"
   ]
  },
  {
   "cell_type": "markdown",
   "metadata": {},
   "source": [
    "There is no test dataset. We are modeling the entire training dataset to learn the probability of each character in a sequence.\n",
    "\n",
    "We are not interested in the most accurate (classification accuracy) model of the training dataset. This would be a model that predicts each character in the training dataset perfectly. Instead we are interested in a generalization of the dataset that minimizes the chosen loss function. We are seeking a balance between generalization and overfitting but short of memorization.\n",
    "\n",
    "The network is slow to train (about 300 seconds per epoch on an Nvidia K520 GPU). Because of the slowness and because of our optimization requirements, we will use model checkpointing to record all of the network weights to file each time an improvement in loss is observed at the end of the epoch. We will use the best set of weights (lowest loss) to instantiate our generative model in the next section."
   ]
  },
  {
   "cell_type": "code",
   "execution_count": 23,
   "metadata": {},
   "outputs": [],
   "source": [
    "# define the checkpoint\n",
    "filepath=\"weights-improvement-{epoch:02d}-{loss:.4f}.hdf5\"\n",
    "checkpoint = tf.keras.callbacks.ModelCheckpoint(filepath, monitor='loss', verbose=1, save_best_only=True, mode='min')\n",
    "callbacks_list = [checkpoint]"
   ]
  },
  {
   "cell_type": "markdown",
   "metadata": {},
   "source": [
    "We can now fit our model to the data. Here we use a modest number of 20/30 epochs and a large batch size of 32/64/128 patterns."
   ]
  },
  {
   "cell_type": "code",
   "execution_count": 24,
   "metadata": {
    "scrolled": true
   },
   "outputs": [
    {
     "name": "stdout",
     "output_type": "stream",
     "text": [
      "Train on 135072 samples\n",
      "Epoch 1/30\n",
      "135040/135072 [============================>.] - ETA: 0s - loss: 2.6352\n",
      "Epoch 00001: loss improved from inf to 2.63516, saving model to weights-improvement-01-2.6352.hdf5\n",
      "135072/135072 [==============================] - 292s 2ms/sample - loss: 2.6352\n",
      "Epoch 2/30\n",
      "135040/135072 [============================>.] - ETA: 0s - loss: 2.4083\n",
      "Epoch 00002: loss improved from 2.63516 to 2.40824, saving model to weights-improvement-02-2.4082.hdf5\n",
      "135072/135072 [==============================] - 289s 2ms/sample - loss: 2.4082\n",
      "Epoch 3/30\n",
      "135040/135072 [============================>.] - ETA: 0s - loss: 2.2693\n",
      "Epoch 00003: loss improved from 2.40824 to 2.26933, saving model to weights-improvement-03-2.2693.hdf5\n",
      "135072/135072 [==============================] - 288s 2ms/sample - loss: 2.2693\n",
      "Epoch 4/30\n",
      "135040/135072 [============================>.] - ETA: 0s - loss: 2.1634\n",
      "Epoch 00004: loss improved from 2.26933 to 2.16337, saving model to weights-improvement-04-2.1634.hdf5\n",
      "135072/135072 [==============================] - 286s 2ms/sample - loss: 2.1634\n",
      "Epoch 5/30\n",
      "135040/135072 [============================>.] - ETA: 0s - loss: 2.0800\n",
      "Epoch 00005: loss improved from 2.16337 to 2.08007, saving model to weights-improvement-05-2.0801.hdf5\n",
      "135072/135072 [==============================] - 285s 2ms/sample - loss: 2.0801\n",
      "Epoch 6/30\n",
      "135040/135072 [============================>.] - ETA: 0s - loss: 2.0079\n",
      "Epoch 00006: loss improved from 2.08007 to 2.00797, saving model to weights-improvement-06-2.0080.hdf5\n",
      "135072/135072 [==============================] - 285s 2ms/sample - loss: 2.0080\n",
      "Epoch 7/30\n",
      "135040/135072 [============================>.] - ETA: 0s - loss: 1.9457\n",
      "Epoch 00007: loss improved from 2.00797 to 1.94565, saving model to weights-improvement-07-1.9457.hdf5\n",
      "135072/135072 [==============================] - 286s 2ms/sample - loss: 1.9457\n",
      "Epoch 8/30\n",
      "135040/135072 [============================>.] - ETA: 0s - loss: 1.8889\n",
      "Epoch 00008: loss improved from 1.94565 to 1.88883, saving model to weights-improvement-08-1.8888.hdf5\n",
      "135072/135072 [==============================] - 286s 2ms/sample - loss: 1.8888\n",
      "Epoch 9/30\n",
      "135040/135072 [============================>.] - ETA: 0s - loss: 1.8375\n",
      "Epoch 00009: loss improved from 1.88883 to 1.83741, saving model to weights-improvement-09-1.8374.hdf5\n",
      "135072/135072 [==============================] - 285s 2ms/sample - loss: 1.8374\n",
      "Epoch 10/30\n",
      "135040/135072 [============================>.] - ETA: 0s - loss: 1.7927\n",
      "Epoch 00010: loss improved from 1.83741 to 1.79277, saving model to weights-improvement-10-1.7928.hdf5\n",
      "135072/135072 [==============================] - 284s 2ms/sample - loss: 1.7928\n",
      "Epoch 11/30\n",
      "135040/135072 [============================>.] - ETA: 0s - loss: 1.7491\n",
      "Epoch 00011: loss improved from 1.79277 to 1.74909, saving model to weights-improvement-11-1.7491.hdf5\n",
      "135072/135072 [==============================] - 285s 2ms/sample - loss: 1.7491\n",
      "Epoch 12/30\n",
      "135040/135072 [============================>.] - ETA: 0s - loss: 1.7101\n",
      "Epoch 00012: loss improved from 1.74909 to 1.71020, saving model to weights-improvement-12-1.7102.hdf5\n",
      "135072/135072 [==============================] - 286s 2ms/sample - loss: 1.7102\n",
      "Epoch 13/30\n",
      "135040/135072 [============================>.] - ETA: 0s - loss: 1.6790\n",
      "Epoch 00013: loss improved from 1.71020 to 1.67912, saving model to weights-improvement-13-1.6791.hdf5\n",
      "135072/135072 [==============================] - 286s 2ms/sample - loss: 1.6791\n",
      "Epoch 14/30\n",
      "135040/135072 [============================>.] - ETA: 0s - loss: 1.6452\n",
      "Epoch 00014: loss improved from 1.67912 to 1.64511, saving model to weights-improvement-14-1.6451.hdf5\n",
      "135072/135072 [==============================] - 286s 2ms/sample - loss: 1.6451\n",
      "Epoch 15/30\n",
      "135040/135072 [============================>.] - ETA: 0s - loss: 1.6189\n",
      "Epoch 00015: loss improved from 1.64511 to 1.61893, saving model to weights-improvement-15-1.6189.hdf5\n",
      "135072/135072 [==============================] - 285s 2ms/sample - loss: 1.6189\n",
      "Epoch 16/30\n",
      "135040/135072 [============================>.] - ETA: 0s - loss: 1.5892\n",
      "Epoch 00016: loss improved from 1.61893 to 1.58925, saving model to weights-improvement-16-1.5893.hdf5\n",
      "135072/135072 [==============================] - 285s 2ms/sample - loss: 1.5893\n",
      "Epoch 17/30\n",
      "135040/135072 [============================>.] - ETA: 0s - loss: 1.5671\n",
      "Epoch 00017: loss improved from 1.58925 to 1.56710, saving model to weights-improvement-17-1.5671.hdf5\n",
      "135072/135072 [==============================] - 285s 2ms/sample - loss: 1.5671\n",
      "Epoch 18/30\n",
      "135040/135072 [============================>.] - ETA: 0s - loss: 1.5477- ET\n",
      "Epoch 00018: loss improved from 1.56710 to 1.54777, saving model to weights-improvement-18-1.5478.hdf5\n",
      "135072/135072 [==============================] - 285s 2ms/sample - loss: 1.5478\n",
      "Epoch 19/30\n",
      "135040/135072 [============================>.] - ETA: 0s - loss: 1.5285\n",
      "Epoch 00019: loss improved from 1.54777 to 1.52863, saving model to weights-improvement-19-1.5286.hdf5\n",
      "135072/135072 [==============================] - 293s 2ms/sample - loss: 1.5286\n",
      "Epoch 20/30\n",
      "135040/135072 [============================>.] - ETA: 0s - loss: 1.5086\n",
      "Epoch 00020: loss improved from 1.52863 to 1.50853, saving model to weights-improvement-20-1.5085.hdf5\n",
      "135072/135072 [==============================] - 287s 2ms/sample - loss: 1.5085\n",
      "Epoch 21/30\n",
      "135040/135072 [============================>.] - ETA: 0s - loss: 1.4925\n",
      "Epoch 00021: loss improved from 1.50853 to 1.49239, saving model to weights-improvement-21-1.4924.hdf5\n",
      "135072/135072 [==============================] - 306s 2ms/sample - loss: 1.4924\n",
      "Epoch 22/30\n",
      "135040/135072 [============================>.] - ETA: 0s - loss: 1.4780\n",
      "Epoch 00022: loss improved from 1.49239 to 1.47784, saving model to weights-improvement-22-1.4778.hdf5\n",
      "135072/135072 [==============================] - 287s 2ms/sample - loss: 1.4778\n",
      "Epoch 23/30\n",
      "135040/135072 [============================>.] - ETA: 0s - loss: 1.4596\n",
      "Epoch 00023: loss improved from 1.47784 to 1.45966, saving model to weights-improvement-23-1.4597.hdf5\n",
      "135072/135072 [==============================] - 290s 2ms/sample - loss: 1.4597\n",
      "Epoch 24/30\n",
      "135040/135072 [============================>.] - ETA: 0s - loss: 1.4470\n",
      "Epoch 00024: loss improved from 1.45966 to 1.44691, saving model to weights-improvement-24-1.4469.hdf5\n",
      "135072/135072 [==============================] - 292s 2ms/sample - loss: 1.4469\n",
      "Epoch 25/30\n",
      "135040/135072 [============================>.] - ETA: 0s - loss: 1.4351\n",
      "Epoch 00025: loss improved from 1.44691 to 1.43506, saving model to weights-improvement-25-1.4351.hdf5\n",
      "135072/135072 [==============================] - 288s 2ms/sample - loss: 1.4351\n",
      "Epoch 26/30\n",
      "135040/135072 [============================>.] - ETA: 0s - loss: 1.4192\n",
      "Epoch 00026: loss improved from 1.43506 to 1.41921, saving model to weights-improvement-26-1.4192.hdf5\n",
      "135072/135072 [==============================] - 295s 2ms/sample - loss: 1.4192\n",
      "Epoch 27/30\n",
      "135040/135072 [============================>.] - ETA: 0s - loss: 1.4084\n",
      "Epoch 00027: loss improved from 1.41921 to 1.40841, saving model to weights-improvement-27-1.4084.hdf5\n",
      "135072/135072 [==============================] - 297s 2ms/sample - loss: 1.4084\n",
      "Epoch 28/30\n",
      "135040/135072 [============================>.] - ETA: 0s - loss: 1.3978\n",
      "Epoch 00028: loss improved from 1.40841 to 1.39781, saving model to weights-improvement-28-1.3978.hdf5\n",
      "135072/135072 [==============================] - 296s 2ms/sample - loss: 1.3978\n",
      "Epoch 29/30\n",
      "135040/135072 [============================>.] - ETA: 0s - loss: 1.3909\n",
      "Epoch 00029: loss improved from 1.39781 to 1.39097, saving model to weights-improvement-29-1.3910.hdf5\n",
      "135072/135072 [==============================] - 298s 2ms/sample - loss: 1.3910\n",
      "Epoch 30/30\n",
      "135040/135072 [============================>.] - ETA: 0s - loss: 1.3799\n",
      "Epoch 00030: loss improved from 1.39097 to 1.37988, saving model to weights-improvement-30-1.3799.hdf5\n",
      "135072/135072 [==============================] - 297s 2ms/sample - loss: 1.3799\n",
      "8672.612203836441\n"
     ]
    }
   ],
   "source": [
    "t0 = time.time()\n",
    "\n",
    "history = model.fit(X, y, epochs=30, batch_size=32, callbacks=callbacks_list, verbose=1)\n",
    "\n",
    "print(f\"training took{(time.time() - t0)/60} minutes\")"
   ]
  },
  {
   "cell_type": "code",
   "execution_count": 25,
   "metadata": {},
   "outputs": [
    {
     "name": "stdout",
     "output_type": "stream",
     "text": [
      "dict_keys(['loss'])\n"
     ]
    }
   ],
   "source": [
    "# list all data in history\n",
    "print(history.history.keys())"
   ]
  },
  {
   "cell_type": "code",
   "execution_count": 26,
   "metadata": {},
   "outputs": [
    {
     "data": {
      "image/png": "[encoded data removed]",
      "text/plain": [
       "<Figure size 864x576 with 1 Axes>"
      ]
     },
     "metadata": {
      "needs_background": "light"
     },
     "output_type": "display_data"
    }
   ],
   "source": [
    "# summarize history for loss\n",
    "plt.figure(figsize=(12,8))\n",
    "plt.plot(history.history['loss'])\n",
    "plt.title('model loss')\n",
    "plt.ylabel('loss')\n",
    "plt.xlabel('epoch')\n",
    "plt.legend(['train', 'test'], loc='upper left')\n",
    "plt.show()"
   ]
  },
  {
   "cell_type": "markdown",
   "metadata": {},
   "source": [
    "The network loss decreased almost every epoch and I expect the network could benefit from training for many more epochs.\n",
    "\n",
    "In the next section we will look at using this model to generate new text sequences."
   ]
  },
  {
   "cell_type": "markdown",
   "metadata": {},
   "source": [
    "You will see different results because of the stochastic nature of the model, and because it is hard to fix the random seed for LSTM models to get 100% reproducible results. This is not a concern for this generative model.\n",
    "\n",
    "After running the example, you should have a number of weight checkpoint files in the local directory.\n",
    "\n",
    "You can delete them all except the one with the smallest loss value."
   ]
  },
  {
   "cell_type": "code",
   "execution_count": 27,
   "metadata": {},
   "outputs": [],
   "source": [
    "filenames = [x for x in os.listdir() if x.endswith('hdf5')]\n",
    "\n",
    "loss = 9.9999\n",
    "chosen = ''\n",
    "for filename in filenames:\n",
    "    newloss = float(re.search(\"([0-9]{2})(\\-)([0-9]{1}\\.{1}[0-9]{4})(\\.)\",filename).group(3).strip('.'))\n",
    "    if newloss < loss:\n",
    "        loss = newloss\n",
    "        chosen = filename\n",
    "        \n",
    "filenames.remove(chosen)\n",
    "for filename in filenames:\n",
    "    os.remove(filename)"
   ]
  },
  {
   "cell_type": "markdown",
   "metadata": {},
   "source": [
    "### Generating Text with an LSTM Network\n",
    "\n",
    "Generating text using the trained LSTM network is relatively straightforward.\n",
    "\n",
    "Firstly, we load the data and define the network in exactly the same way, except the network weights are loaded from a checkpoint file and the network does not need to be trained."
   ]
  },
  {
   "cell_type": "code",
   "execution_count": 28,
   "metadata": {},
   "outputs": [],
   "source": [
    "# load the network weights\n",
    "model.load_weights(chosen)\n",
    "model.compile(loss='categorical_crossentropy', optimizer='adam')"
   ]
  },
  {
   "cell_type": "markdown",
   "metadata": {},
   "source": [
    "Also, when preparing the mapping of unique characters to integers, we must also create a reverse mapping that we can use to convert the integers back to characters so that we can understand the predictions."
   ]
  },
  {
   "cell_type": "code",
   "execution_count": 29,
   "metadata": {},
   "outputs": [],
   "source": [
    "int_to_char = dict((i, c) for i, c in enumerate(chars))"
   ]
  },
  {
   "cell_type": "markdown",
   "metadata": {},
   "source": [
    "Finally, we need to actually make predictions.\n",
    "\n",
    "The simplest way to use the Keras LSTM model to make predictions is to first start off with a seed sequence as input, generate the next character then update the seed sequence to add the generated character on the end and trim off the first character. This process is repeated for as long as we want to predict new characters (e.g. a sequence of 1,000 characters in length).\n",
    "\n",
    "We can pick a random input pattern as our seed sequence, then print generated characters as we generate them."
   ]
  },
  {
   "cell_type": "markdown",
   "metadata": {},
   "source": [
    "Running this example first outputs the selected random seed, then each character as it is generated.\n",
    "\n",
    "For example, below are the results from one run of this text generator. The random seed was:"
   ]
  },
  {
   "cell_type": "code",
   "execution_count": 30,
   "metadata": {},
   "outputs": [
    {
     "name": "stdout",
     "output_type": "stream",
     "text": [
      "Seed:\n",
      "\" ain so that altogether for the first minute or two it was as much as she could do to hold it as soon \"\n",
      " as she could not tholk the hoose in the looe taid the queen and the cormouse sas onf tfoee oittle bitt shat saady to the cane uion iise a lrose and the went on wo the was a little sr tto the went on wou to ae in as all said the dat r panpic the made and the white rabbit whi had never heard oef wou se to sald to be i l valk to moee aeain to she teing to be to the teine to her the was not and the whre the coom woodering what the was a little sropnised the queen said to alice and she went on wo the was a little srrpnised the queen said to alice and she went on wo the was a little srrpnised the queen said to alice and she went on wo the was a little srrpnised the queen said to alice and she went on wo the was a little srrpnised the queen said to alice and she went on wo the was a little srrpnised the queen said to alice and she went on wo the was a little srrpnised the queen said to alice and she went on wo the was a little srrpnised the queen said to alice and she went on wo the was a li\n",
      "Done.\n"
     ]
    }
   ],
   "source": [
    "#pick a random seed\n",
    "start = numpy.random.randint(0, len(dataX)-1)\n",
    "pattern = dataX[start]\n",
    "print(\"Seed:\")\n",
    "print(\"\\\"\", ''.join([int_to_char[value] for value in pattern]), \"\\\"\")\n",
    "# generate characters\n",
    "for i in range(1000):\n",
    "    x = numpy.reshape(pattern, (1, len(pattern), 1))\n",
    "    x = x / float(n_vocab)\n",
    "    prediction = model.predict(x, verbose=0)\n",
    "    index = numpy.argmax(prediction)\n",
    "    result = int_to_char[index]\n",
    "    seq_in = [int_to_char[value] for value in pattern]\n",
    "    sys.stdout.write(result)\n",
    "    pattern.append(index)\n",
    "    pattern = pattern[1:len(pattern)]\n",
    "print(\"\\nDone.\")"
   ]
  },
  {
   "cell_type": "markdown",
   "metadata": {},
   "source": [
    "We can note some observations about the generated text.  \n",
    "+ It generally conforms to the line format observed in the original text of less than 80 characters before a new line.\n",
    "+ The characters are separated into word-like groups and most groups are actual English words (e.g. “the”, “little” and “was”), but many do not (e.g. “lott”, “tiie” and “taede”).\n",
    "+ Some of the words in sequence make sense(e.g. “and the white rabbit“), but many do not (e.g. “wese tilel“).\n",
    "\n",
    "The fact that this character based model of the book produces output like this is very impressive. It gives you a sense of the learning capabilities of LSTM networks.\n",
    "\n",
    "The results are not perfect. In the next section we look at improving the quality of results by developing a much larger LSTM network."
   ]
  },
  {
   "cell_type": "markdown",
   "metadata": {},
   "source": [
    "### Larger LSTM Recurrent Neural Network\n",
    "\n",
    "We got results, but not excellent results in the previous section. Now, we can try to improve the quality of the generated text by creating a much larger network.\n",
    "\n",
    "We will keep the number of memory units the same at 256, but add a second layer."
   ]
  },
  {
   "cell_type": "code",
   "execution_count": 31,
   "metadata": {},
   "outputs": [],
   "source": [
    "model = tf.keras.Sequential()\n",
    "model.add(tf.keras.layers.LSTM(256, input_shape=(X.shape[1], X.shape[2]), return_sequences=True))\n",
    "model.add(tf.keras.layers.Dropout(0.2))\n",
    "model.add(tf.keras.layers.LSTM(256))\n",
    "model.add(tf.keras.layers.Dropout(0.2))\n",
    "model.add(tf.keras.layers.Dense(y.shape[1], activation='softmax'))\n",
    "model.compile(loss='categorical_crossentropy', optimizer='adam')"
   ]
  },
  {
   "cell_type": "markdown",
   "metadata": {},
   "source": [
    "We will also change the filename of the checkpointed weights so that we can tell the difference between weights for this network and the previous (by appending the word “bigger” in the filename)."
   ]
  },
  {
   "cell_type": "code",
   "execution_count": 32,
   "metadata": {},
   "outputs": [],
   "source": [
    "filepath=\"weights-improvement-{epoch:02d}-{loss:.4f}-bigger.hdf5\""
   ]
  },
  {
   "cell_type": "markdown",
   "metadata": {},
   "source": [
    "Finally, we will increase the number of training epochs from 20 to 50 and use batch size 32/64 to give the network more of an opportunity to be updated and learn."
   ]
  },
  {
   "cell_type": "code",
   "execution_count": null,
   "metadata": {},
   "outputs": [
    {
     "name": "stdout",
     "output_type": "stream",
     "text": [
      "Train on 135072 samples\n",
      "Epoch 1/50\n",
      "135040/135072 [============================>.] - ETA: 0s - loss: 2.4406\n",
      "Epoch 00001: loss improved from inf to 2.44058, saving model to weights-improvement-01-2.4406-bigger.hdf5\n",
      "135072/135072 [==============================] - 729s 5ms/sample - loss: 2.4406\n",
      "Epoch 2/50\n",
      "135040/135072 [============================>.] - ETA: 0s - loss: 2.0217\n",
      "Epoch 00002: loss improved from 2.44058 to 2.02161, saving model to weights-improvement-02-2.0216-bigger.hdf5\n",
      "135072/135072 [==============================] - 715s 5ms/sample - loss: 2.0216\n",
      "Epoch 3/50\n",
      "135040/135072 [============================>.] - ETA: 0s - loss: 1.8396\n",
      "Epoch 00003: loss improved from 2.02161 to 1.83960, saving model to weights-improvement-03-1.8396-bigger.hdf5\n",
      "135072/135072 [==============================] - 713s 5ms/sample - loss: 1.8396\n",
      "Epoch 4/50\n",
      "135040/135072 [============================>.] - ETA: 0s - loss: 1.7309\n",
      "Epoch 00004: loss improved from 1.83960 to 1.73083, saving model to weights-improvement-04-1.7308-bigger.hdf5\n",
      "135072/135072 [==============================] - 713s 5ms/sample - loss: 1.7308\n",
      "Epoch 5/50\n",
      "135040/135072 [============================>.] - ETA: 0s - loss: 1.6505\n",
      "Epoch 00005: loss improved from 1.73083 to 1.65044, saving model to weights-improvement-05-1.6504-bigger.hdf5\n",
      "135072/135072 [==============================] - 716s 5ms/sample - loss: 1.6504\n",
      "Epoch 6/50\n",
      "135040/135072 [============================>.] - ETA: 0s - loss: 1.5873\n",
      "Epoch 00006: loss improved from 1.65044 to 1.58739, saving model to weights-improvement-06-1.5874-bigger.hdf5\n",
      "135072/135072 [==============================] - 714s 5ms/sample - loss: 1.5874\n",
      "Epoch 7/50\n",
      "135040/135072 [============================>.] - ETA: 0s - loss: 1.5351\n",
      "Epoch 00007: loss improved from 1.58739 to 1.53530, saving model to weights-improvement-07-1.5353-bigger.hdf5\n",
      "135072/135072 [==============================] - 717s 5ms/sample - loss: 1.5353\n",
      "Epoch 8/50\n",
      "135040/135072 [============================>.] - ETA: 0s - loss: 1.4907\n",
      "Epoch 00008: loss improved from 1.53530 to 1.49071, saving model to weights-improvement-08-1.4907-bigger.hdf5\n",
      "135072/135072 [==============================] - 714s 5ms/sample - loss: 1.4907\n",
      "Epoch 9/50\n",
      "135040/135072 [============================>.] - ETA: 0s - loss: 1.4522\n",
      "Epoch 00009: loss improved from 1.49071 to 1.45219, saving model to weights-improvement-09-1.4522-bigger.hdf5\n",
      "135072/135072 [==============================] - 716s 5ms/sample - loss: 1.4522\n",
      "Epoch 10/50\n",
      "135040/135072 [============================>.] - ETA: 0s - loss: 1.4221\n",
      "Epoch 00010: loss improved from 1.45219 to 1.42220, saving model to weights-improvement-10-1.4222-bigger.hdf5\n",
      "135072/135072 [==============================] - 716s 5ms/sample - loss: 1.4222\n",
      "Epoch 11/50\n",
      "135040/135072 [============================>.] - ETA: 0s - loss: 1.3887\n",
      "Epoch 00011: loss improved from 1.42220 to 1.38868, saving model to weights-improvement-11-1.3887-bigger.hdf5\n",
      "135072/135072 [==============================] - 746s 6ms/sample - loss: 1.3887\n",
      "Epoch 12/50\n",
      "135040/135072 [============================>.] - ETA: 0s - loss: 1.3636\n",
      "Epoch 00012: loss improved from 1.38868 to 1.36346, saving model to weights-improvement-12-1.3635-bigger.hdf5\n",
      "135072/135072 [==============================] - 761s 6ms/sample - loss: 1.3635\n",
      "Epoch 13/50\n",
      "101504/135072 [=====================>........] - ETA: 3:06 - loss: 1.3333"
     ]
    }
   ],
   "source": [
    "t0 = time.time()\n",
    "\n",
    "checkpoint = tf.keras.callbacks.ModelCheckpoint(filepath, monitor='loss', verbose=1, save_best_only=True, mode='min')\n",
    "callbacks_list = [checkpoint]\n",
    "# fit the model\n",
    "history = model.fit(X, y, epochs=50, batch_size=32, callbacks=callbacks_list)\n",
    "\n",
    "print(f\"training took{(time.time() - t0)/60} minutes\")"
   ]
  },
  {
   "cell_type": "code",
   "execution_count": null,
   "metadata": {},
   "outputs": [],
   "source": [
    "# list all data in history\n",
    "print(history.history.keys())"
   ]
  },
  {
   "cell_type": "code",
   "execution_count": null,
   "metadata": {},
   "outputs": [],
   "source": [
    "# summarize history for loss\n",
    "plt.figure(figsize=(12,8))\n",
    "plt.plot(history.history['loss'])\n",
    "plt.title('model loss')\n",
    "plt.ylabel('loss')\n",
    "plt.xlabel('epoch')\n",
    "plt.legend(['train', 'test'], loc='upper left')\n",
    "plt.show()"
   ]
  },
  {
   "cell_type": "code",
   "execution_count": null,
   "metadata": {},
   "outputs": [],
   "source": [
    "!ls *.hdf5"
   ]
  },
  {
   "cell_type": "code",
   "execution_count": null,
   "metadata": {},
   "outputs": [],
   "source": [
    "filename = \"weights-improvement-35-1.1737-bigger.hdf5\""
   ]
  },
  {
   "cell_type": "code",
   "execution_count": null,
   "metadata": {},
   "outputs": [],
   "source": [
    "# load the network weights\n",
    "model.load_weights(filename)\n",
    "model.compile(loss='categorical_crossentropy', optimizer='adam')"
   ]
  },
  {
   "cell_type": "code",
   "execution_count": null,
   "metadata": {},
   "outputs": [],
   "source": [
    "int_to_char = dict((i, c) for i, c in enumerate(chars))"
   ]
  },
  {
   "cell_type": "markdown",
   "metadata": {},
   "source": [
    "One example of running this text generation script produces the output below.\n",
    "\n",
    "The randomly chosen seed text was:"
   ]
  },
  {
   "cell_type": "code",
   "execution_count": null,
   "metadata": {},
   "outputs": [],
   "source": [
    "#pick a random seed\n",
    "start = numpy.random.randint(0, len(dataX)-1)\n",
    "pattern = dataX[start]\n",
    "print(\"Seed:\")\n",
    "print(\"\\\"\", ''.join([int_to_char[value] for value in pattern]), \"\\\"\")\n",
    "# generate characters\n",
    "for i in range(1000):\n",
    "    x = numpy.reshape(pattern, (1, len(pattern), 1))\n",
    "    x = x / float(n_vocab)\n",
    "    prediction = model.predict(x, verbose=0)\n",
    "    index = numpy.argmax(prediction)\n",
    "    result = int_to_char[index]\n",
    "    seq_in = [int_to_char[value] for value in pattern]\n",
    "    sys.stdout.write(result)\n",
    "    pattern.append(index)\n",
    "    pattern = pattern[1:len(pattern)]\n",
    "print(\"\\nDone.\")"
   ]
  },
  {
   "cell_type": "markdown",
   "metadata": {},
   "source": [
    "We can see that generally there are fewer spelling mistakes and the text looks more realistic, but is still quite nonsensical.\n",
    "\n",
    "For example the same phrases get repeated again and again. Quotes are opened but not closed.\n",
    "\n",
    "These are better results but there is still a lot of room for improvement."
   ]
  },
  {
   "cell_type": "markdown",
   "metadata": {},
   "source": [
    "### 10 Extension Ideas to Improve the Model\n",
    "\n",
    "Below are 10 ideas that may further improve the model that you could experiment with are:\n",
    "\n",
    "  + Predict fewer than 1,000 characters as output for a given seed.\n",
    "  + Remove all punctuation from the source text, and therefore from the models’ vocabulary.\n",
    "  + Try a one hot encoded for the input sequences.\n",
    "  + Train the model on padded sentences rather than random sequences of characters.\n",
    "  + Increase the number of training epochs to 100 or many hundreds.\n",
    "  + Add dropout to the visible input layer and consider tuning the dropout percentage.\n",
    "  + Tune the batch size, try a batch size of 1 as a (very slow) baseline and larger sizes from there.\n",
    "  + Add more memory units to the layers and/or more layers.\n",
    "  + Experiment with scale factors (temperature) when interpreting the prediction probabilities.\n",
    "  + Change the LSTM layers to be “stateful” to maintain state across batches.\n"
   ]
  },
  {
   "cell_type": "markdown",
   "metadata": {},
   "source": [
    "#### Resources\n",
    "\n",
    "This character text model is a popular way for generating text using recurrent neural networks.\n",
    "\n",
    "Below are some more resources and tutorials on the topic if you are interested in going deeper. Perhaps the most popular is the tutorial by Andrej Karpathy titled “The Unreasonable Effectiveness of Recurrent Neural Networks“.\n",
    "\n",
    "+ [Generating Text with Recurrent Neural Networks](http://www.cs.utoronto.ca/~ilya/pubs/2011/LANG-RNN.pdf)\n",
    "+ [Keras code example of LSTM for text generation](https://github.com/fchollet/keras/blob/master/examples/lstm_text_generation.py)\n",
    "+ [Lasagne code example of LSTM for text generation](https://github.com/Lasagne/Recipes/blob/master/examples/lstm_text_generation.py)  \n",
    "+ [MXNet tutorial for using an LSTM for text generation](http://mxnetjl.readthedocs.io/en/latest/tutorial/char-lstm.html)\n",
    "+ [Auto-Generating Clickbait With Recurrent Neural Networks](https://larseidnes.com/2015/10/13/auto-generating-clickbait-with-recurrent-neural-networks/)\n",
    "\n",
    "#### Summary\n",
    "\n",
    "In this notebook you discovered how you can develop an LSTM recurrent neural network for text generation in Python with the Keras deep learning library.\n",
    "\n",
    "+ Where to download the ASCII text for classical books for free that you can use for training.\n",
    "+ How to train an LSTM network on text sequences and how to use the trained network to generate new sequences.\n",
    "+ How to develop stacked LSTM networks and lift the performance of the model."
   ]
  },
  {
   "cell_type": "code",
   "execution_count": null,
   "metadata": {},
   "outputs": [],
   "source": []
  }
 ],
 "metadata": {
  "kernelspec": {
   "display_name": "Python 3",
   "language": "python",
   "name": "python3"
  },
  "language_info": {
   "codemirror_mode": {
    "name": "ipython",
    "version": 3
   },
   "file_extension": ".py",
   "mimetype": "text/x-python",
   "name": "python",
   "nbconvert_exporter": "python",
   "pygments_lexer": "ipython3",
   "version": "3.6.8"
  }
 },
 "nbformat": 4,
 "nbformat_minor": 4
}
