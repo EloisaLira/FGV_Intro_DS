{
 "cells": [
  {
   "cell_type": "markdown",
   "metadata": {},
   "source": [
    "### Develop a Small LSTM Recurrent Neural Network"
   ]
  },
  {
   "cell_type": "markdown",
   "metadata": {},
   "source": [
    "Let’s start off by importing the classes and functions we intend to use to train our model."
   ]
  },
  {
   "cell_type": "code",
   "execution_count": 1,
   "metadata": {},
   "outputs": [],
   "source": [
    "import os\n",
    "import sys\n",
    "import time\n",
    "import re\n",
    "import numpy\n",
    "import matplotlib.pyplot as plt\n",
    "#from keras.models import Sequential\n",
    "#from keras.layers import Dense\n",
    "#from keras.layers import Dropout\n",
    "#from keras.layers import LSTM\n",
    "#from keras.callbacks import ModelCheckpoint\n",
    "#from keras.utils import np_utils\n",
    "import tensorflow as tf\n",
    "\n",
    "#os.environ[\"KERAS_BACKEND\"] = \"theano\"\n",
    "os.environ[\"KERAS_BACKEND\"] = \"tensorflow\""
   ]
  },
  {
   "cell_type": "code",
   "execution_count": 2,
   "metadata": {},
   "outputs": [],
   "source": [
    "# fix random seed for reproducibility\n",
    "seed = 7\n",
    "numpy.random.seed(seed)"
   ]
  },
  {
   "cell_type": "markdown",
   "metadata": {},
   "source": [
    "First we'll develop a small ANN with Keras:"
   ]
  },
  {
   "cell_type": "code",
   "execution_count": 3,
   "metadata": {},
   "outputs": [],
   "source": [
    "# load pima indians dataset\n",
    "dataset = numpy.loadtxt(\"../datasets/CSVs/pima-indians-diabetes.data\", delimiter=\",\")"
   ]
  },
  {
   "cell_type": "code",
   "execution_count": 4,
   "metadata": {},
   "outputs": [],
   "source": [
    "# split into input (X) and output (Y) variables\n",
    "X = dataset[:,0:8]\n",
    "Y = dataset[:,8]"
   ]
  },
  {
   "cell_type": "code",
   "execution_count": 5,
   "metadata": {},
   "outputs": [],
   "source": [
    "# create model\n",
    "model = tf.keras.Sequential()\n",
    "model.add(tf.keras.layers.Dense(12, input_dim=8, activation=\"relu\", kernel_initializer=\"uniform\"))\n",
    "model.add(tf.keras.layers.Dense(8, activation=\"relu\", kernel_initializer=\"uniform\"))\n",
    "model.add(tf.keras.layers.Dense(1, activation=\"sigmoid\", kernel_initializer=\"uniform\"))"
   ]
  },
  {
   "cell_type": "code",
   "execution_count": 6,
   "metadata": {},
   "outputs": [],
   "source": [
    "# Compile model\n",
    "model.compile(loss='binary_crossentropy', optimizer='adam', metrics=['accuracy'])"
   ]
  },
  {
   "cell_type": "code",
   "execution_count": 7,
   "metadata": {
    "scrolled": true
   },
   "outputs": [
    {
     "name": "stdout",
     "output_type": "stream",
     "text": [
      "Train on 514 samples, validate on 254 samples\n",
      "Epoch 1/200\n",
      "514/514 [==============================] - 1s 1ms/sample - loss: 0.6857 - accuracy: 0.5875 - val_loss: 0.6661 - val_accuracy: 0.6732\n",
      "Epoch 2/200\n",
      "514/514 [==============================] - 0s 126us/sample - loss: 0.6649 - accuracy: 0.6401 - val_loss: 0.6466 - val_accuracy: 0.6732\n",
      "Epoch 3/200\n",
      "514/514 [==============================] - 0s 120us/sample - loss: 0.6541 - accuracy: 0.6323 - val_loss: 0.6356 - val_accuracy: 0.6575\n",
      "Epoch 4/200\n",
      "514/514 [==============================] - 0s 120us/sample - loss: 0.6442 - accuracy: 0.6479 - val_loss: 0.6279 - val_accuracy: 0.6654\n",
      "Epoch 5/200\n",
      "514/514 [==============================] - 0s 118us/sample - loss: 0.6400 - accuracy: 0.6459 - val_loss: 0.6199 - val_accuracy: 0.6850\n",
      "Epoch 6/200\n",
      "514/514 [==============================] - 0s 121us/sample - loss: 0.6265 - accuracy: 0.6556 - val_loss: 0.6096 - val_accuracy: 0.6850\n",
      "Epoch 7/200\n",
      "514/514 [==============================] - 0s 165us/sample - loss: 0.6332 - accuracy: 0.6556 - val_loss: 0.6102 - val_accuracy: 0.7165\n",
      "Epoch 8/200\n",
      "514/514 [==============================] - 0s 175us/sample - loss: 0.6157 - accuracy: 0.6693 - val_loss: 0.6125 - val_accuracy: 0.6969\n",
      "Epoch 9/200\n",
      "514/514 [==============================] - 0s 170us/sample - loss: 0.6265 - accuracy: 0.6459 - val_loss: 0.6000 - val_accuracy: 0.7205\n",
      "Epoch 10/200\n",
      "514/514 [==============================] - 0s 174us/sample - loss: 0.6179 - accuracy: 0.6790 - val_loss: 0.6077 - val_accuracy: 0.6850\n",
      "Epoch 11/200\n",
      "514/514 [==============================] - 0s 171us/sample - loss: 0.6100 - accuracy: 0.6673 - val_loss: 0.5950 - val_accuracy: 0.7165\n",
      "Epoch 12/200\n",
      "514/514 [==============================] - 0s 173us/sample - loss: 0.6037 - accuracy: 0.6868 - val_loss: 0.5852 - val_accuracy: 0.7165\n",
      "Epoch 13/200\n",
      "514/514 [==============================] - 0s 176us/sample - loss: 0.6070 - accuracy: 0.6751 - val_loss: 0.5873 - val_accuracy: 0.7126\n",
      "Epoch 14/200\n",
      "514/514 [==============================] - 0s 171us/sample - loss: 0.6014 - accuracy: 0.6946 - val_loss: 0.6030 - val_accuracy: 0.6850\n",
      "Epoch 15/200\n",
      "514/514 [==============================] - 0s 181us/sample - loss: 0.6046 - accuracy: 0.6751 - val_loss: 0.6016 - val_accuracy: 0.6732\n",
      "Epoch 16/200\n",
      "514/514 [==============================] - 0s 174us/sample - loss: 0.6059 - accuracy: 0.6907 - val_loss: 0.5782 - val_accuracy: 0.7126\n",
      "Epoch 17/200\n",
      "514/514 [==============================] - 0s 172us/sample - loss: 0.6024 - accuracy: 0.6887 - val_loss: 0.5824 - val_accuracy: 0.7126\n",
      "Epoch 18/200\n",
      "514/514 [==============================] - 0s 172us/sample - loss: 0.5945 - accuracy: 0.6946 - val_loss: 0.5825 - val_accuracy: 0.6929\n",
      "Epoch 19/200\n",
      "514/514 [==============================] - 0s 173us/sample - loss: 0.5969 - accuracy: 0.6984 - val_loss: 0.5734 - val_accuracy: 0.6969\n",
      "Epoch 20/200\n",
      "514/514 [==============================] - 0s 172us/sample - loss: 0.5946 - accuracy: 0.6946 - val_loss: 0.5712 - val_accuracy: 0.7087\n",
      "Epoch 21/200\n",
      "514/514 [==============================] - 0s 171us/sample - loss: 0.5948 - accuracy: 0.6770 - val_loss: 0.5729 - val_accuracy: 0.6929\n",
      "Epoch 22/200\n",
      "514/514 [==============================] - 0s 178us/sample - loss: 0.5920 - accuracy: 0.6790 - val_loss: 0.5779 - val_accuracy: 0.6929\n",
      "Epoch 23/200\n",
      "514/514 [==============================] - 0s 171us/sample - loss: 0.5906 - accuracy: 0.6926 - val_loss: 0.5708 - val_accuracy: 0.7165\n",
      "Epoch 24/200\n",
      "514/514 [==============================] - 0s 172us/sample - loss: 0.5963 - accuracy: 0.6829 - val_loss: 0.5692 - val_accuracy: 0.7087\n",
      "Epoch 25/200\n",
      "514/514 [==============================] - 0s 184us/sample - loss: 0.5914 - accuracy: 0.6868 - val_loss: 0.5689 - val_accuracy: 0.7165\n",
      "Epoch 26/200\n",
      "514/514 [==============================] - 0s 203us/sample - loss: 0.5845 - accuracy: 0.7043 - val_loss: 0.5714 - val_accuracy: 0.6850\n",
      "Epoch 27/200\n",
      "514/514 [==============================] - 0s 194us/sample - loss: 0.5902 - accuracy: 0.6965 - val_loss: 0.5709 - val_accuracy: 0.7047\n",
      "Epoch 28/200\n",
      "514/514 [==============================] - 0s 195us/sample - loss: 0.5879 - accuracy: 0.6829 - val_loss: 0.5699 - val_accuracy: 0.7126\n",
      "Epoch 29/200\n",
      "514/514 [==============================] - 0s 204us/sample - loss: 0.5823 - accuracy: 0.7140 - val_loss: 0.5690 - val_accuracy: 0.7008\n",
      "Epoch 30/200\n",
      "514/514 [==============================] - 0s 198us/sample - loss: 0.5782 - accuracy: 0.7004 - val_loss: 0.5787 - val_accuracy: 0.6890\n",
      "Epoch 31/200\n",
      "514/514 [==============================] - 0s 199us/sample - loss: 0.5852 - accuracy: 0.6926 - val_loss: 0.5754 - val_accuracy: 0.7047\n",
      "Epoch 32/200\n",
      "514/514 [==============================] - 0s 203us/sample - loss: 0.5771 - accuracy: 0.7160 - val_loss: 0.5697 - val_accuracy: 0.7008\n",
      "Epoch 33/200\n",
      "514/514 [==============================] - 0s 199us/sample - loss: 0.5832 - accuracy: 0.7082 - val_loss: 0.5702 - val_accuracy: 0.7047\n",
      "Epoch 34/200\n",
      "514/514 [==============================] - 0s 194us/sample - loss: 0.5799 - accuracy: 0.7023 - val_loss: 0.5671 - val_accuracy: 0.7126\n",
      "Epoch 35/200\n",
      "514/514 [==============================] - 0s 198us/sample - loss: 0.5812 - accuracy: 0.7121 - val_loss: 0.5692 - val_accuracy: 0.6969\n",
      "Epoch 36/200\n",
      "514/514 [==============================] - 0s 193us/sample - loss: 0.5809 - accuracy: 0.7043 - val_loss: 0.5690 - val_accuracy: 0.7008\n",
      "Epoch 37/200\n",
      "514/514 [==============================] - 0s 194us/sample - loss: 0.5715 - accuracy: 0.7004 - val_loss: 0.5665 - val_accuracy: 0.6929\n",
      "Epoch 38/200\n",
      "514/514 [==============================] - 0s 195us/sample - loss: 0.5717 - accuracy: 0.7023 - val_loss: 0.5824 - val_accuracy: 0.6969\n",
      "Epoch 39/200\n",
      "514/514 [==============================] - 0s 202us/sample - loss: 0.5813 - accuracy: 0.6887 - val_loss: 0.5647 - val_accuracy: 0.7165\n",
      "Epoch 40/200\n",
      "514/514 [==============================] - 0s 194us/sample - loss: 0.5708 - accuracy: 0.7121 - val_loss: 0.5651 - val_accuracy: 0.7008\n",
      "Epoch 41/200\n",
      "514/514 [==============================] - 0s 194us/sample - loss: 0.5737 - accuracy: 0.6984 - val_loss: 0.5665 - val_accuracy: 0.6929\n",
      "Epoch 42/200\n",
      "514/514 [==============================] - 0s 224us/sample - loss: 0.5697 - accuracy: 0.7082 - val_loss: 0.5812 - val_accuracy: 0.6969\n",
      "Epoch 43/200\n",
      "514/514 [==============================] - 0s 224us/sample - loss: 0.5748 - accuracy: 0.7140 - val_loss: 0.5641 - val_accuracy: 0.7205\n",
      "Epoch 44/200\n",
      "514/514 [==============================] - 0s 260us/sample - loss: 0.5648 - accuracy: 0.7140 - val_loss: 0.5650 - val_accuracy: 0.7008\n",
      "Epoch 45/200\n",
      "514/514 [==============================] - 0s 276us/sample - loss: 0.5648 - accuracy: 0.7237 - val_loss: 0.5641 - val_accuracy: 0.6969\n",
      "Epoch 46/200\n",
      "514/514 [==============================] - 0s 319us/sample - loss: 0.5657 - accuracy: 0.7335 - val_loss: 0.5697 - val_accuracy: 0.7126\n",
      "Epoch 47/200\n",
      "514/514 [==============================] - 0s 290us/sample - loss: 0.5664 - accuracy: 0.7101 - val_loss: 0.5722 - val_accuracy: 0.7087\n",
      "Epoch 48/200\n",
      "514/514 [==============================] - 0s 249us/sample - loss: 0.5613 - accuracy: 0.7218 - val_loss: 0.5684 - val_accuracy: 0.7165\n",
      "Epoch 49/200\n",
      "514/514 [==============================] - 0s 252us/sample - loss: 0.5637 - accuracy: 0.7296 - val_loss: 0.5594 - val_accuracy: 0.7283\n",
      "Epoch 50/200\n",
      "514/514 [==============================] - 0s 249us/sample - loss: 0.5639 - accuracy: 0.7393 - val_loss: 0.5622 - val_accuracy: 0.7087\n",
      "Epoch 51/200\n",
      "514/514 [==============================] - 0s 253us/sample - loss: 0.5569 - accuracy: 0.7179 - val_loss: 0.5594 - val_accuracy: 0.7283\n",
      "Epoch 52/200\n",
      "514/514 [==============================] - 0s 253us/sample - loss: 0.5577 - accuracy: 0.7296 - val_loss: 0.5784 - val_accuracy: 0.6890\n",
      "Epoch 53/200\n",
      "514/514 [==============================] - 0s 256us/sample - loss: 0.5597 - accuracy: 0.7121 - val_loss: 0.5597 - val_accuracy: 0.7205\n",
      "Epoch 54/200\n",
      "514/514 [==============================] - 0s 249us/sample - loss: 0.5564 - accuracy: 0.7257 - val_loss: 0.5586 - val_accuracy: 0.7283\n",
      "Epoch 55/200\n",
      "514/514 [==============================] - 0s 232us/sample - loss: 0.5482 - accuracy: 0.7354 - val_loss: 0.5689 - val_accuracy: 0.6929\n",
      "Epoch 56/200\n",
      "514/514 [==============================] - 0s 208us/sample - loss: 0.5588 - accuracy: 0.7062 - val_loss: 0.5586 - val_accuracy: 0.7244\n",
      "Epoch 57/200\n",
      "514/514 [==============================] - 0s 206us/sample - loss: 0.5547 - accuracy: 0.7393 - val_loss: 0.5561 - val_accuracy: 0.7165\n",
      "Epoch 58/200\n",
      "514/514 [==============================] - 0s 178us/sample - loss: 0.5539 - accuracy: 0.7257 - val_loss: 0.5543 - val_accuracy: 0.7047\n",
      "Epoch 59/200\n",
      "514/514 [==============================] - 0s 117us/sample - loss: 0.5484 - accuracy: 0.7218 - val_loss: 0.5491 - val_accuracy: 0.7283\n",
      "Epoch 60/200\n",
      "514/514 [==============================] - 0s 120us/sample - loss: 0.5460 - accuracy: 0.7393 - val_loss: 0.5516 - val_accuracy: 0.7244\n",
      "Epoch 61/200\n",
      "514/514 [==============================] - 0s 130us/sample - loss: 0.5459 - accuracy: 0.7354 - val_loss: 0.5499 - val_accuracy: 0.7205\n",
      "Epoch 62/200\n",
      "514/514 [==============================] - 0s 130us/sample - loss: 0.5516 - accuracy: 0.7198 - val_loss: 0.5540 - val_accuracy: 0.7165\n",
      "Epoch 63/200\n",
      "514/514 [==============================] - 0s 123us/sample - loss: 0.5571 - accuracy: 0.7121 - val_loss: 0.5495 - val_accuracy: 0.7283\n",
      "Epoch 64/200\n",
      "514/514 [==============================] - 0s 117us/sample - loss: 0.5423 - accuracy: 0.7218 - val_loss: 0.5576 - val_accuracy: 0.6969\n",
      "Epoch 65/200\n",
      "514/514 [==============================] - 0s 117us/sample - loss: 0.5487 - accuracy: 0.7218 - val_loss: 0.5446 - val_accuracy: 0.7480\n",
      "Epoch 66/200\n",
      "514/514 [==============================] - 0s 117us/sample - loss: 0.5493 - accuracy: 0.7393 - val_loss: 0.5619 - val_accuracy: 0.7323\n",
      "Epoch 67/200\n",
      "514/514 [==============================] - 0s 122us/sample - loss: 0.5478 - accuracy: 0.7296 - val_loss: 0.5465 - val_accuracy: 0.7126\n",
      "Epoch 68/200\n",
      "514/514 [==============================] - 0s 119us/sample - loss: 0.5412 - accuracy: 0.7471 - val_loss: 0.5433 - val_accuracy: 0.7244\n",
      "Epoch 69/200\n",
      "514/514 [==============================] - 0s 117us/sample - loss: 0.5370 - accuracy: 0.7335 - val_loss: 0.5438 - val_accuracy: 0.7244\n",
      "Epoch 70/200\n",
      "514/514 [==============================] - 0s 122us/sample - loss: 0.5458 - accuracy: 0.7393 - val_loss: 0.5403 - val_accuracy: 0.7283\n",
      "Epoch 71/200\n",
      "514/514 [==============================] - 0s 120us/sample - loss: 0.5372 - accuracy: 0.7276 - val_loss: 0.5378 - val_accuracy: 0.7402\n",
      "Epoch 72/200\n",
      "514/514 [==============================] - 0s 127us/sample - loss: 0.5346 - accuracy: 0.7529 - val_loss: 0.5519 - val_accuracy: 0.7047\n",
      "Epoch 73/200\n",
      "514/514 [==============================] - 0s 120us/sample - loss: 0.5372 - accuracy: 0.7451 - val_loss: 0.5344 - val_accuracy: 0.7323\n",
      "Epoch 74/200\n",
      "514/514 [==============================] - 0s 119us/sample - loss: 0.5400 - accuracy: 0.7354 - val_loss: 0.5393 - val_accuracy: 0.7362\n",
      "Epoch 75/200\n",
      "514/514 [==============================] - 0s 142us/sample - loss: 0.5327 - accuracy: 0.7393 - val_loss: 0.5422 - val_accuracy: 0.7283\n",
      "Epoch 76/200\n",
      "514/514 [==============================] - 0s 157us/sample - loss: 0.5430 - accuracy: 0.7393 - val_loss: 0.5388 - val_accuracy: 0.7520\n",
      "Epoch 77/200\n",
      "514/514 [==============================] - 0s 158us/sample - loss: 0.5369 - accuracy: 0.7335 - val_loss: 0.5358 - val_accuracy: 0.7480\n",
      "Epoch 78/200\n",
      "514/514 [==============================] - 0s 151us/sample - loss: 0.5388 - accuracy: 0.7412 - val_loss: 0.5306 - val_accuracy: 0.7362\n",
      "Epoch 79/200\n",
      "514/514 [==============================] - 0s 178us/sample - loss: 0.5268 - accuracy: 0.7510 - val_loss: 0.5490 - val_accuracy: 0.7205\n",
      "Epoch 80/200\n",
      "514/514 [==============================] - 0s 185us/sample - loss: 0.5323 - accuracy: 0.7101 - val_loss: 0.5383 - val_accuracy: 0.7205\n",
      "Epoch 81/200\n",
      "514/514 [==============================] - 0s 137us/sample - loss: 0.5313 - accuracy: 0.7588 - val_loss: 0.5480 - val_accuracy: 0.7283\n",
      "Epoch 82/200\n",
      "514/514 [==============================] - 0s 118us/sample - loss: 0.5426 - accuracy: 0.7296 - val_loss: 0.5326 - val_accuracy: 0.7323\n",
      "Epoch 83/200\n",
      "514/514 [==============================] - 0s 122us/sample - loss: 0.5206 - accuracy: 0.7490 - val_loss: 0.5369 - val_accuracy: 0.7323\n",
      "Epoch 84/200\n",
      "514/514 [==============================] - 0s 135us/sample - loss: 0.5346 - accuracy: 0.7218 - val_loss: 0.5384 - val_accuracy: 0.7402\n",
      "Epoch 85/200\n",
      "514/514 [==============================] - 0s 127us/sample - loss: 0.5255 - accuracy: 0.7432 - val_loss: 0.5372 - val_accuracy: 0.7126\n",
      "Epoch 86/200\n",
      "514/514 [==============================] - 0s 125us/sample - loss: 0.5244 - accuracy: 0.7471 - val_loss: 0.5370 - val_accuracy: 0.7283\n",
      "Epoch 87/200\n",
      "514/514 [==============================] - 0s 126us/sample - loss: 0.5210 - accuracy: 0.7549 - val_loss: 0.5583 - val_accuracy: 0.7244\n",
      "Epoch 88/200\n",
      "514/514 [==============================] - 0s 119us/sample - loss: 0.5230 - accuracy: 0.7529 - val_loss: 0.5328 - val_accuracy: 0.7283\n",
      "Epoch 89/200\n",
      "514/514 [==============================] - 0s 118us/sample - loss: 0.5184 - accuracy: 0.7665 - val_loss: 0.5415 - val_accuracy: 0.7283\n",
      "Epoch 90/200\n",
      "514/514 [==============================] - 0s 120us/sample - loss: 0.5170 - accuracy: 0.7412 - val_loss: 0.5317 - val_accuracy: 0.7205\n",
      "Epoch 91/200\n",
      "514/514 [==============================] - 0s 117us/sample - loss: 0.5353 - accuracy: 0.7335 - val_loss: 0.5322 - val_accuracy: 0.7441\n",
      "Epoch 92/200\n",
      "514/514 [==============================] - 0s 119us/sample - loss: 0.5190 - accuracy: 0.7529 - val_loss: 0.5295 - val_accuracy: 0.7323\n",
      "Epoch 93/200\n",
      "514/514 [==============================] - 0s 123us/sample - loss: 0.5118 - accuracy: 0.7646 - val_loss: 0.5379 - val_accuracy: 0.7244\n",
      "Epoch 94/200\n",
      "514/514 [==============================] - 0s 125us/sample - loss: 0.5207 - accuracy: 0.7393 - val_loss: 0.5300 - val_accuracy: 0.7441\n",
      "Epoch 95/200\n",
      "514/514 [==============================] - 0s 185us/sample - loss: 0.5178 - accuracy: 0.7549 - val_loss: 0.5274 - val_accuracy: 0.7402\n",
      "Epoch 96/200\n",
      "514/514 [==============================] - 0s 182us/sample - loss: 0.5227 - accuracy: 0.7393 - val_loss: 0.5328 - val_accuracy: 0.7323\n",
      "Epoch 97/200\n",
      "514/514 [==============================] - 0s 192us/sample - loss: 0.5201 - accuracy: 0.7510 - val_loss: 0.5247 - val_accuracy: 0.7441\n",
      "Epoch 98/200\n",
      "514/514 [==============================] - 0s 177us/sample - loss: 0.5163 - accuracy: 0.7549 - val_loss: 0.5264 - val_accuracy: 0.7638\n",
      "Epoch 99/200\n",
      "514/514 [==============================] - 0s 173us/sample - loss: 0.5162 - accuracy: 0.7490 - val_loss: 0.5254 - val_accuracy: 0.7362\n",
      "Epoch 100/200\n",
      "514/514 [==============================] - 0s 172us/sample - loss: 0.5207 - accuracy: 0.7490 - val_loss: 0.5411 - val_accuracy: 0.7402\n",
      "Epoch 101/200\n",
      "514/514 [==============================] - 0s 172us/sample - loss: 0.5136 - accuracy: 0.7471 - val_loss: 0.5345 - val_accuracy: 0.7402\n",
      "Epoch 102/200\n",
      "514/514 [==============================] - 0s 176us/sample - loss: 0.5119 - accuracy: 0.7568 - val_loss: 0.5254 - val_accuracy: 0.7480\n",
      "Epoch 103/200\n",
      "514/514 [==============================] - 0s 178us/sample - loss: 0.5183 - accuracy: 0.7335 - val_loss: 0.5388 - val_accuracy: 0.7441\n",
      "Epoch 104/200\n",
      "514/514 [==============================] - 0s 173us/sample - loss: 0.5154 - accuracy: 0.7471 - val_loss: 0.5232 - val_accuracy: 0.7441\n",
      "Epoch 105/200\n",
      "514/514 [==============================] - 0s 175us/sample - loss: 0.5174 - accuracy: 0.7335 - val_loss: 0.5305 - val_accuracy: 0.7480\n",
      "Epoch 106/200\n",
      "514/514 [==============================] - 0s 178us/sample - loss: 0.5127 - accuracy: 0.7588 - val_loss: 0.5223 - val_accuracy: 0.7520\n",
      "Epoch 107/200\n",
      "514/514 [==============================] - 0s 180us/sample - loss: 0.5084 - accuracy: 0.7607 - val_loss: 0.5210 - val_accuracy: 0.7559\n",
      "Epoch 108/200\n",
      "514/514 [==============================] - 0s 175us/sample - loss: 0.5069 - accuracy: 0.7510 - val_loss: 0.5232 - val_accuracy: 0.7441\n",
      "Epoch 109/200\n",
      "514/514 [==============================] - 0s 176us/sample - loss: 0.5034 - accuracy: 0.7588 - val_loss: 0.5167 - val_accuracy: 0.7638\n",
      "Epoch 110/200\n",
      "514/514 [==============================] - 0s 176us/sample - loss: 0.5029 - accuracy: 0.7568 - val_loss: 0.5135 - val_accuracy: 0.7480\n",
      "Epoch 111/200\n",
      "514/514 [==============================] - 0s 177us/sample - loss: 0.5004 - accuracy: 0.7451 - val_loss: 0.5174 - val_accuracy: 0.7559\n",
      "Epoch 112/200\n",
      "514/514 [==============================] - 0s 176us/sample - loss: 0.5040 - accuracy: 0.7685 - val_loss: 0.5086 - val_accuracy: 0.7559\n",
      "Epoch 113/200\n",
      "514/514 [==============================] - 0s 178us/sample - loss: 0.5013 - accuracy: 0.7626 - val_loss: 0.5491 - val_accuracy: 0.7362\n",
      "Epoch 114/200\n",
      "514/514 [==============================] - 0s 176us/sample - loss: 0.5069 - accuracy: 0.7568 - val_loss: 0.5356 - val_accuracy: 0.7244\n",
      "Epoch 115/200\n",
      "514/514 [==============================] - 0s 180us/sample - loss: 0.5043 - accuracy: 0.7490 - val_loss: 0.5245 - val_accuracy: 0.7402\n",
      "Epoch 116/200\n",
      "514/514 [==============================] - 0s 176us/sample - loss: 0.4992 - accuracy: 0.7393 - val_loss: 0.5086 - val_accuracy: 0.7598\n",
      "Epoch 117/200\n",
      "514/514 [==============================] - 0s 177us/sample - loss: 0.5005 - accuracy: 0.7451 - val_loss: 0.5177 - val_accuracy: 0.7598\n",
      "Epoch 118/200\n",
      "514/514 [==============================] - 0s 186us/sample - loss: 0.4973 - accuracy: 0.7646 - val_loss: 0.5266 - val_accuracy: 0.7520\n",
      "Epoch 119/200\n",
      "514/514 [==============================] - 0s 176us/sample - loss: 0.4998 - accuracy: 0.7568 - val_loss: 0.5149 - val_accuracy: 0.7559\n",
      "Epoch 120/200\n",
      "514/514 [==============================] - 0s 172us/sample - loss: 0.5018 - accuracy: 0.7588 - val_loss: 0.5268 - val_accuracy: 0.7480\n",
      "Epoch 121/200\n",
      "514/514 [==============================] - 0s 176us/sample - loss: 0.5055 - accuracy: 0.7607 - val_loss: 0.5060 - val_accuracy: 0.7638\n",
      "Epoch 122/200\n",
      "514/514 [==============================] - 0s 177us/sample - loss: 0.5017 - accuracy: 0.7529 - val_loss: 0.5130 - val_accuracy: 0.7638\n",
      "Epoch 123/200\n",
      "514/514 [==============================] - 0s 177us/sample - loss: 0.5008 - accuracy: 0.7549 - val_loss: 0.5159 - val_accuracy: 0.7480\n",
      "Epoch 124/200\n",
      "514/514 [==============================] - 0s 178us/sample - loss: 0.4988 - accuracy: 0.7510 - val_loss: 0.5251 - val_accuracy: 0.7480\n",
      "Epoch 125/200\n",
      "514/514 [==============================] - 0s 179us/sample - loss: 0.4982 - accuracy: 0.7529 - val_loss: 0.5166 - val_accuracy: 0.7480\n",
      "Epoch 126/200\n",
      "514/514 [==============================] - 0s 179us/sample - loss: 0.4925 - accuracy: 0.7529 - val_loss: 0.5062 - val_accuracy: 0.7520\n",
      "Epoch 127/200\n",
      "514/514 [==============================] - 0s 130us/sample - loss: 0.4893 - accuracy: 0.7646 - val_loss: 0.5291 - val_accuracy: 0.7323\n",
      "Epoch 128/200\n",
      "514/514 [==============================] - 0s 130us/sample - loss: 0.4906 - accuracy: 0.7568 - val_loss: 0.5193 - val_accuracy: 0.7598\n",
      "Epoch 129/200\n",
      "514/514 [==============================] - 0s 135us/sample - loss: 0.4965 - accuracy: 0.7646 - val_loss: 0.5254 - val_accuracy: 0.7559\n",
      "Epoch 130/200\n",
      "514/514 [==============================] - 0s 130us/sample - loss: 0.5020 - accuracy: 0.7549 - val_loss: 0.5126 - val_accuracy: 0.7480\n",
      "Epoch 131/200\n",
      "514/514 [==============================] - 0s 121us/sample - loss: 0.4824 - accuracy: 0.7704 - val_loss: 0.5243 - val_accuracy: 0.7559\n",
      "Epoch 132/200\n",
      "514/514 [==============================] - 0s 125us/sample - loss: 0.4966 - accuracy: 0.7549 - val_loss: 0.5233 - val_accuracy: 0.7717\n",
      "Epoch 133/200\n",
      "514/514 [==============================] - 0s 120us/sample - loss: 0.4928 - accuracy: 0.7724 - val_loss: 0.5192 - val_accuracy: 0.7598\n",
      "Epoch 134/200\n",
      "514/514 [==============================] - 0s 123us/sample - loss: 0.4870 - accuracy: 0.7607 - val_loss: 0.5197 - val_accuracy: 0.7362\n",
      "Epoch 135/200\n",
      "514/514 [==============================] - 0s 118us/sample - loss: 0.4914 - accuracy: 0.7763 - val_loss: 0.5336 - val_accuracy: 0.7362\n",
      "Epoch 136/200\n",
      "514/514 [==============================] - 0s 121us/sample - loss: 0.4906 - accuracy: 0.7588 - val_loss: 0.5142 - val_accuracy: 0.7520\n",
      "Epoch 137/200\n",
      "514/514 [==============================] - 0s 118us/sample - loss: 0.4898 - accuracy: 0.7510 - val_loss: 0.5183 - val_accuracy: 0.7638\n",
      "Epoch 138/200\n",
      "514/514 [==============================] - 0s 118us/sample - loss: 0.4878 - accuracy: 0.7646 - val_loss: 0.5110 - val_accuracy: 0.7480\n",
      "Epoch 139/200\n",
      "514/514 [==============================] - 0s 120us/sample - loss: 0.4932 - accuracy: 0.7549 - val_loss: 0.5181 - val_accuracy: 0.7598\n",
      "Epoch 140/200\n",
      "514/514 [==============================] - 0s 118us/sample - loss: 0.4922 - accuracy: 0.7510 - val_loss: 0.5336 - val_accuracy: 0.7677\n",
      "Epoch 141/200\n",
      "514/514 [==============================] - 0s 129us/sample - loss: 0.4922 - accuracy: 0.7510 - val_loss: 0.5394 - val_accuracy: 0.7362\n",
      "Epoch 142/200\n",
      "514/514 [==============================] - 0s 129us/sample - loss: 0.4901 - accuracy: 0.7607 - val_loss: 0.5102 - val_accuracy: 0.7520\n",
      "Epoch 143/200\n",
      "514/514 [==============================] - 0s 154us/sample - loss: 0.4881 - accuracy: 0.7607 - val_loss: 0.5260 - val_accuracy: 0.7362\n",
      "Epoch 144/200\n",
      "514/514 [==============================] - 0s 155us/sample - loss: 0.4860 - accuracy: 0.7588 - val_loss: 0.5158 - val_accuracy: 0.7638\n",
      "Epoch 145/200\n",
      "514/514 [==============================] - 0s 163us/sample - loss: 0.4959 - accuracy: 0.7432 - val_loss: 0.5475 - val_accuracy: 0.7362\n",
      "Epoch 146/200\n",
      "514/514 [==============================] - 0s 164us/sample - loss: 0.4900 - accuracy: 0.7588 - val_loss: 0.5160 - val_accuracy: 0.7520\n",
      "Epoch 147/200\n",
      "514/514 [==============================] - 0s 157us/sample - loss: 0.4819 - accuracy: 0.7665 - val_loss: 0.5121 - val_accuracy: 0.7717\n",
      "Epoch 148/200\n",
      "514/514 [==============================] - 0s 141us/sample - loss: 0.4835 - accuracy: 0.7549 - val_loss: 0.5154 - val_accuracy: 0.7441\n",
      "Epoch 149/200\n",
      "514/514 [==============================] - 0s 139us/sample - loss: 0.4816 - accuracy: 0.7724 - val_loss: 0.5070 - val_accuracy: 0.7638\n",
      "Epoch 150/200\n",
      "514/514 [==============================] - 0s 138us/sample - loss: 0.4788 - accuracy: 0.7646 - val_loss: 0.5062 - val_accuracy: 0.7362\n",
      "Epoch 151/200\n",
      "514/514 [==============================] - 0s 138us/sample - loss: 0.4825 - accuracy: 0.7607 - val_loss: 0.5129 - val_accuracy: 0.7598\n",
      "Epoch 152/200\n",
      "514/514 [==============================] - 0s 138us/sample - loss: 0.4748 - accuracy: 0.7607 - val_loss: 0.5231 - val_accuracy: 0.7717\n",
      "Epoch 153/200\n",
      "514/514 [==============================] - 0s 139us/sample - loss: 0.4698 - accuracy: 0.7782 - val_loss: 0.5090 - val_accuracy: 0.7598\n",
      "Epoch 154/200\n",
      "514/514 [==============================] - 0s 139us/sample - loss: 0.4690 - accuracy: 0.7665 - val_loss: 0.5281 - val_accuracy: 0.7520\n",
      "Epoch 155/200\n",
      "514/514 [==============================] - 0s 150us/sample - loss: 0.4790 - accuracy: 0.7607 - val_loss: 0.5162 - val_accuracy: 0.7520\n",
      "Epoch 156/200\n",
      "514/514 [==============================] - 0s 152us/sample - loss: 0.4719 - accuracy: 0.7626 - val_loss: 0.5123 - val_accuracy: 0.7362\n",
      "Epoch 157/200\n",
      "514/514 [==============================] - 0s 152us/sample - loss: 0.4888 - accuracy: 0.7626 - val_loss: 0.5385 - val_accuracy: 0.7559\n",
      "Epoch 158/200\n",
      "514/514 [==============================] - 0s 151us/sample - loss: 0.4785 - accuracy: 0.7665 - val_loss: 0.5140 - val_accuracy: 0.7638\n",
      "Epoch 159/200\n",
      "514/514 [==============================] - 0s 153us/sample - loss: 0.4725 - accuracy: 0.7665 - val_loss: 0.5268 - val_accuracy: 0.7520\n",
      "Epoch 160/200\n",
      "514/514 [==============================] - 0s 153us/sample - loss: 0.4843 - accuracy: 0.7568 - val_loss: 0.5066 - val_accuracy: 0.7441\n",
      "Epoch 161/200\n",
      "514/514 [==============================] - 0s 154us/sample - loss: 0.4720 - accuracy: 0.7588 - val_loss: 0.5067 - val_accuracy: 0.7598\n",
      "Epoch 162/200\n",
      "514/514 [==============================] - 0s 168us/sample - loss: 0.4655 - accuracy: 0.7626 - val_loss: 0.5068 - val_accuracy: 0.7480\n",
      "Epoch 163/200\n",
      "514/514 [==============================] - 0s 166us/sample - loss: 0.4690 - accuracy: 0.7626 - val_loss: 0.5270 - val_accuracy: 0.7559\n",
      "Epoch 164/200\n",
      "514/514 [==============================] - 0s 168us/sample - loss: 0.4693 - accuracy: 0.7802 - val_loss: 0.5176 - val_accuracy: 0.7480\n",
      "Epoch 165/200\n",
      "514/514 [==============================] - 0s 173us/sample - loss: 0.4703 - accuracy: 0.7607 - val_loss: 0.5062 - val_accuracy: 0.7480\n",
      "Epoch 166/200\n",
      "514/514 [==============================] - 0s 169us/sample - loss: 0.4766 - accuracy: 0.7685 - val_loss: 0.5257 - val_accuracy: 0.7520\n",
      "Epoch 167/200\n",
      "514/514 [==============================] - 0s 169us/sample - loss: 0.4586 - accuracy: 0.7704 - val_loss: 0.5096 - val_accuracy: 0.7598\n",
      "Epoch 168/200\n",
      "514/514 [==============================] - 0s 165us/sample - loss: 0.4677 - accuracy: 0.7646 - val_loss: 0.5193 - val_accuracy: 0.7559\n",
      "Epoch 169/200\n",
      "514/514 [==============================] - 0s 172us/sample - loss: 0.4841 - accuracy: 0.7451 - val_loss: 0.5314 - val_accuracy: 0.7677\n",
      "Epoch 170/200\n",
      "514/514 [==============================] - 0s 176us/sample - loss: 0.4629 - accuracy: 0.7646 - val_loss: 0.5038 - val_accuracy: 0.7598\n",
      "Epoch 171/200\n",
      "514/514 [==============================] - 0s 171us/sample - loss: 0.4711 - accuracy: 0.7665 - val_loss: 0.5204 - val_accuracy: 0.7638\n",
      "Epoch 172/200\n",
      "514/514 [==============================] - 0s 171us/sample - loss: 0.4632 - accuracy: 0.7685 - val_loss: 0.5177 - val_accuracy: 0.7598\n",
      "Epoch 173/200\n",
      "514/514 [==============================] - 0s 190us/sample - loss: 0.4571 - accuracy: 0.7782 - val_loss: 0.5241 - val_accuracy: 0.7638\n",
      "Epoch 174/200\n",
      "514/514 [==============================] - 0s 189us/sample - loss: 0.4632 - accuracy: 0.7763 - val_loss: 0.5147 - val_accuracy: 0.7283\n",
      "Epoch 175/200\n",
      "514/514 [==============================] - 0s 160us/sample - loss: 0.4564 - accuracy: 0.7802 - val_loss: 0.5236 - val_accuracy: 0.7598\n",
      "Epoch 176/200\n",
      "514/514 [==============================] - 0s 141us/sample - loss: 0.4629 - accuracy: 0.7665 - val_loss: 0.5167 - val_accuracy: 0.7559\n",
      "Epoch 177/200\n",
      "514/514 [==============================] - 0s 155us/sample - loss: 0.4592 - accuracy: 0.7763 - val_loss: 0.5087 - val_accuracy: 0.7598\n",
      "Epoch 178/200\n",
      "514/514 [==============================] - 0s 157us/sample - loss: 0.4606 - accuracy: 0.7743 - val_loss: 0.5185 - val_accuracy: 0.7480\n",
      "Epoch 179/200\n",
      "514/514 [==============================] - 0s 197us/sample - loss: 0.4803 - accuracy: 0.7646 - val_loss: 0.5324 - val_accuracy: 0.7559\n",
      "Epoch 180/200\n",
      "514/514 [==============================] - 0s 199us/sample - loss: 0.4561 - accuracy: 0.7646 - val_loss: 0.5054 - val_accuracy: 0.7835\n",
      "Epoch 181/200\n",
      "514/514 [==============================] - 0s 199us/sample - loss: 0.4611 - accuracy: 0.7743 - val_loss: 0.5107 - val_accuracy: 0.7717\n",
      "Epoch 182/200\n",
      "514/514 [==============================] - 0s 197us/sample - loss: 0.4567 - accuracy: 0.7821 - val_loss: 0.5264 - val_accuracy: 0.7402\n",
      "Epoch 183/200\n",
      "514/514 [==============================] - 0s 195us/sample - loss: 0.4666 - accuracy: 0.7743 - val_loss: 0.5199 - val_accuracy: 0.7598\n",
      "Epoch 184/200\n",
      "514/514 [==============================] - 0s 201us/sample - loss: 0.4489 - accuracy: 0.7860 - val_loss: 0.5184 - val_accuracy: 0.7598\n",
      "Epoch 185/200\n",
      "514/514 [==============================] - 0s 198us/sample - loss: 0.4578 - accuracy: 0.7646 - val_loss: 0.5288 - val_accuracy: 0.7480\n",
      "Epoch 186/200\n",
      "514/514 [==============================] - 0s 198us/sample - loss: 0.4550 - accuracy: 0.7763 - val_loss: 0.5015 - val_accuracy: 0.7677\n",
      "Epoch 187/200\n",
      "514/514 [==============================] - 0s 202us/sample - loss: 0.4580 - accuracy: 0.7782 - val_loss: 0.5362 - val_accuracy: 0.7244\n",
      "Epoch 188/200\n",
      "514/514 [==============================] - 0s 175us/sample - loss: 0.4627 - accuracy: 0.7704 - val_loss: 0.5163 - val_accuracy: 0.7520\n",
      "Epoch 189/200\n",
      "514/514 [==============================] - 0s 152us/sample - loss: 0.4583 - accuracy: 0.7626 - val_loss: 0.5194 - val_accuracy: 0.7480\n",
      "Epoch 190/200\n",
      "514/514 [==============================] - 0s 149us/sample - loss: 0.4519 - accuracy: 0.7763 - val_loss: 0.5371 - val_accuracy: 0.7520\n",
      "Epoch 191/200\n",
      "514/514 [==============================] - 0s 150us/sample - loss: 0.4489 - accuracy: 0.7860 - val_loss: 0.5085 - val_accuracy: 0.7638\n",
      "Epoch 192/200\n",
      "514/514 [==============================] - 0s 185us/sample - loss: 0.4525 - accuracy: 0.7763 - val_loss: 0.5267 - val_accuracy: 0.7677\n",
      "Epoch 193/200\n",
      "514/514 [==============================] - 0s 180us/sample - loss: 0.4555 - accuracy: 0.7665 - val_loss: 0.5061 - val_accuracy: 0.7717\n",
      "Epoch 194/200\n",
      "514/514 [==============================] - 0s 181us/sample - loss: 0.4701 - accuracy: 0.7743 - val_loss: 0.5219 - val_accuracy: 0.7717\n",
      "Epoch 195/200\n",
      "514/514 [==============================] - 0s 184us/sample - loss: 0.4699 - accuracy: 0.7665 - val_loss: 0.5054 - val_accuracy: 0.7717\n",
      "Epoch 196/200\n",
      "514/514 [==============================] - 0s 184us/sample - loss: 0.4567 - accuracy: 0.7568 - val_loss: 0.5342 - val_accuracy: 0.7638\n",
      "Epoch 197/200\n",
      "514/514 [==============================] - 0s 182us/sample - loss: 0.4520 - accuracy: 0.7879 - val_loss: 0.5196 - val_accuracy: 0.7835\n",
      "Epoch 198/200\n",
      "514/514 [==============================] - 0s 184us/sample - loss: 0.4536 - accuracy: 0.7802 - val_loss: 0.5102 - val_accuracy: 0.7480\n",
      "Epoch 199/200\n",
      "514/514 [==============================] - 0s 184us/sample - loss: 0.4575 - accuracy: 0.7782 - val_loss: 0.5089 - val_accuracy: 0.7598\n",
      "Epoch 200/200\n",
      "514/514 [==============================] - 0s 179us/sample - loss: 0.4476 - accuracy: 0.7743 - val_loss: 0.5166 - val_accuracy: 0.7756\n"
     ]
    }
   ],
   "source": [
    "# Fit the model\n",
    "history = model.fit(X, Y, validation_split=0.33, epochs=200, batch_size=10, verbose=1)"
   ]
  },
  {
   "cell_type": "code",
   "execution_count": 8,
   "metadata": {},
   "outputs": [
    {
     "name": "stdout",
     "output_type": "stream",
     "text": [
      "dict_keys(['loss', 'accuracy', 'val_loss', 'val_accuracy'])\n"
     ]
    }
   ],
   "source": [
    "# list all data in history\n",
    "print(history.history.keys())"
   ]
  },
  {
   "cell_type": "code",
   "execution_count": 9,
   "metadata": {},
   "outputs": [
    {
     "data": {
      "image/png": "[encoded data removed]",
      "text/plain": [
       "<Figure size 864x576 with 1 Axes>"
      ]
     },
     "metadata": {
      "needs_background": "light"
     },
     "output_type": "display_data"
    }
   ],
   "source": [
    "# summarize history for accuracy\n",
    "plt.figure(figsize=(12,8))\n",
    "plt.plot(history.history['accuracy'])\n",
    "plt.plot(history.history['val_accuracy'])\n",
    "plt.title('model accuracy')\n",
    "plt.ylabel('accuracy')\n",
    "plt.xlabel('epoch')\n",
    "plt.legend(['train', 'test'], loc='upper left')\n",
    "plt.show()"
   ]
  },
  {
   "cell_type": "code",
   "execution_count": 10,
   "metadata": {},
   "outputs": [
    {
     "data": {
      "image/png": "[encoded data removed]",
      "text/plain": [
       "<Figure size 864x576 with 1 Axes>"
      ]
     },
     "metadata": {
      "needs_background": "light"
     },
     "output_type": "display_data"
    }
   ],
   "source": [
    "# summarize history for loss\n",
    "plt.figure(figsize=(12,8))\n",
    "plt.plot(history.history['loss'])\n",
    "plt.plot(history.history['val_loss'])\n",
    "plt.title('model loss')\n",
    "plt.ylabel('loss')\n",
    "plt.xlabel('epoch')\n",
    "plt.legend(['train', 'test'], loc='upper left')\n",
    "plt.show()"
   ]
  },
  {
   "cell_type": "code",
   "execution_count": 11,
   "metadata": {},
   "outputs": [
    {
     "name": "stdout",
     "output_type": "stream",
     "text": [
      "768/1 [================================================================================================================================================================================================================================================================================================================================================================================================================================================================================================================================================================================================================================================================================================================================================================================================================================================================================================================================================================================================================================================================================================================================================================================================================================================================================================================================================================================================================================================================================================================================================================================================================================================================================================================================================================================================================================================================================================================================================================================================================================================================================================================================================================================================================================================================================================================================================================================================================================================================================================================================================================================================================================================================================================================================================================================================================================================================================================================================================================================================================================================================================================================================================================================================================================================================================================================================================================================================================================================================================================================================================================================================================================================================================================================================================================================================================================================================================================================================================================================================================================================================================================================================================================================================================================================================================================================================================================================================================================================================================================================================================================================================================================================================================================================================================================================================================================================================================================================================================================================================================================================================================================================================================================================================================================================================================================================================================================================================================================================================================================================================================================================================================================================================================================================================================================================================================================================================================================================================================================================================================================================================================================================================================================================================================================================================================================================================================================================================================================================================================================================================================================================================================================================================================================================================================================================================================================================================================================================================================================================================================================================================================================================================================================================================================================================================================================================================================================================================================================================================================================================================================================================================================================================================================================================================================================================================================================================================================================================================================================================================================================================================================================================================================================================================================================================================================================================================================================================================================================================================================================================================================================================================================================================================================================================================================================================================================================================================================================================================================================================================================================================================================================================================================================================================================================================================================================================================================================================================================================================================================================================================================================================================================================================================================================================================================================================================================================================================================================================================================================================================================================================================================================================================================================================================================================================================================================================================================================================================================================================================================================================================================================================================================================================================================================================================================================================================================================================================================================================================================================================================================================================================================================================================================================================================================================================================================================================================================================================================================================================================================================================================================================================================================================================================================================================================================================================================================================================================================================================================================================================================================================================================================================================================================================================================================================================================================================================================================================================================================================================================================================================================================================================================================================================================================================================================================================================================================================================================================================================================================================================================================================================================================================================================================================================================================================================================================================================================================================================================================================================================================================================================================================================================================================================================================================================================================================================================================================================================================================================================================================================================================================================================================================================================================================================================================================================================================================================================================================================================================================================================================================================================================================================================================================================================================================================================================================================================================================================================================================================================================================================================================================================================================================================================================================================================================================================================================================================================================================================================================================================================================================================================================================================================================================================================================================================================================================================================================================================================================================================================================================================================================================================================================================================================================================================================================================================================================================================================================================================================================================================================================================================================================================================================================================================================================================================================================================================================================================================================================================================================================================================================================================================================================================================================================================================================================================================================================================================================================================================================================================================================================================================================================================================================================================================================================================================================================================================================================================================================================================================================================================================================================================================================================================================================================================================================================================================================================================================================================================================================================================================================================================================================================================================================================================================================================================================================================================================================================================================================================================================================================================================================================================================================================================================================================================================================================================================================================================================================================================================================================================================================================================================================================================================================================================================================================================================================================================================================================================================================================================================================================================================================================================================================================================================================================================================================================================================================================================================================================================================================================================================================================================================================================================================================================================================================================================================================================================================================================================================================================================================================================================================================================================================================================================================================================================================================================================================================================================================================================================================================================================================================================================================================================================================================================================================================================================================================================================================================================================================================================================================================================================================================================================================================================================================================================================================================================================================================================================================================================================================================================================================================================================================================================================================================================================================================================================================================================================================================================================================================================================================================================================================================================================================================================================================================================================================================================================================================================================================================================================================================================================================================================================================================================================================================================================================================================================================================================================================================================================================================================================================================================================================================] - 0s 78us/sample - loss: 0.5267 - accuracy: 0.7826\n",
      "\n",
      "accuracy: 78.26%\n"
     ]
    }
   ],
   "source": [
    "# evaluate the model\n",
    "scores = model.evaluate(X, Y)\n",
    "print(\"\\n%s: %.2f%%\" % (model.metrics_names[1], scores[1]*100))"
   ]
  },
  {
   "cell_type": "code",
   "execution_count": 12,
   "metadata": {},
   "outputs": [
    {
     "name": "stdout",
     "output_type": "stream",
     "text": [
      "[[0.30036956]\n",
      " [0.10803598]\n",
      " [0.8746939 ]\n",
      " [0.09072778]\n",
      " [0.7660877 ]\n",
      " [0.20205587]\n",
      " [0.26295877]\n",
      " [0.72431654]\n",
      " [0.90941024]\n",
      " [0.24468622]]\n",
      "\n",
      "[0.0, 0.0, 1.0, 0.0, 1.0, 0.0, 0.0, 1.0, 1.0, 0.0]\n"
     ]
    }
   ],
   "source": [
    "# calculate predictions\n",
    "predictions = model.predict(X)\n",
    "print(predictions[0:10])\n",
    "\n",
    "print()\n",
    "\n",
    "# round predictions\n",
    "rounded = [round(x[0]) for x in predictions]\n",
    "print(rounded[0:10])"
   ]
  },
  {
   "cell_type": "markdown",
   "metadata": {},
   "source": [
    "### Develop a Small LSTM Recurrent Neural Network\n",
    "\n",
    "Based on this [post](https://machinelearningmastery.com/text-generation-lstm-recurrent-neural-networks-python-keras/)\n",
    "\n",
    "In this section we will develop a simple LSTM network to learn sequences of characters from Alice in Wonderland. In the next section we will use this model to generate new sequences of characters."
   ]
  },
  {
   "cell_type": "markdown",
   "metadata": {},
   "source": [
    "Next, we need to load the ASCII text for the book into memory and convert all of the characters to lowercase to reduce the vocabulary that the network must learn."
   ]
  },
  {
   "cell_type": "code",
   "execution_count": 13,
   "metadata": {},
   "outputs": [],
   "source": [
    "# load ascii text and covert to lowercase\n",
    "filename = \"../datasets/Texts/Gutenberg/wonderland.txt\"\n",
    "raw_text = open(filename).read()\n",
    "raw_text = raw_text.lower()"
   ]
  },
  {
   "cell_type": "code",
   "execution_count": 14,
   "metadata": {},
   "outputs": [
    {
     "data": {
      "text/plain": [
       "144987"
      ]
     },
     "execution_count": 14,
     "metadata": {},
     "output_type": "execute_result"
    }
   ],
   "source": [
    "raw_text.find('happy summer days.\\n\\n')"
   ]
  },
  {
   "cell_type": "code",
   "execution_count": 15,
   "metadata": {},
   "outputs": [],
   "source": [
    "raw_text = raw_text[:145000]"
   ]
  },
  {
   "cell_type": "markdown",
   "metadata": {},
   "source": [
    "Cleaning the text:"
   ]
  },
  {
   "cell_type": "code",
   "execution_count": 16,
   "metadata": {},
   "outputs": [],
   "source": [
    "raw_text = raw_text[raw_text.find('\\n\\n\\n\\n'):]\n",
    "raw_text = re.sub(r'[\\n ]+',' ', raw_text)\n",
    "\n",
    "import string\n",
    "for char in string.punctuation:\n",
    "    raw_text = raw_text.replace(char, ' ')\n",
    "\n",
    "raw_text = raw_text.replace('  ', ' ')\n",
    "raw_text = raw_text.replace('  ', ' ')"
   ]
  },
  {
   "cell_type": "markdown",
   "metadata": {},
   "source": [
    "Now that the book is loaded, we must prepare the data for modeling by the neural network. We cannot model the characters directly, instead we must convert the characters to integers.\n",
    "\n",
    "We can do this easily by first creating a set of all of the distinct characters in the book, then creating a map of each character to a unique integer."
   ]
  },
  {
   "cell_type": "code",
   "execution_count": 17,
   "metadata": {},
   "outputs": [],
   "source": [
    "# create mapping of unique chars to integers\n",
    "chars = sorted(list(set(raw_text)))\n",
    "char_to_int = dict((c, i) for i, c in enumerate(chars))"
   ]
  },
  {
   "cell_type": "markdown",
   "metadata": {},
   "source": [
    "For example, the list of unique sorted lowercase characters in the book is as follows:"
   ]
  },
  {
   "cell_type": "code",
   "execution_count": 18,
   "metadata": {},
   "outputs": [
    {
     "data": {
      "text/plain": [
       "{' ': 0,\n",
       " '0': 1,\n",
       " '3': 2,\n",
       " 'a': 3,\n",
       " 'b': 4,\n",
       " 'c': 5,\n",
       " 'd': 6,\n",
       " 'e': 7,\n",
       " 'f': 8,\n",
       " 'g': 9,\n",
       " 'h': 10,\n",
       " 'i': 11,\n",
       " 'j': 12,\n",
       " 'k': 13,\n",
       " 'l': 14,\n",
       " 'm': 15,\n",
       " 'n': 16,\n",
       " 'o': 17,\n",
       " 'p': 18,\n",
       " 'q': 19,\n",
       " 'r': 20,\n",
       " 's': 21,\n",
       " 't': 22,\n",
       " 'u': 23,\n",
       " 'v': 24,\n",
       " 'w': 25,\n",
       " 'x': 26,\n",
       " 'y': 27,\n",
       " 'z': 28}"
      ]
     },
     "execution_count": 18,
     "metadata": {},
     "output_type": "execute_result"
    }
   ],
   "source": [
    "char_to_int"
   ]
  },
  {
   "cell_type": "markdown",
   "metadata": {},
   "source": [
    "You can see that there may be some characters that we could remove to further clean up the dataset that will reduce the vocabulary and may improve the modeling process.\n",
    "\n",
    "Now that the book has been loaded and the mapping prepared, we can summarize the dataset."
   ]
  },
  {
   "cell_type": "code",
   "execution_count": 19,
   "metadata": {},
   "outputs": [
    {
     "name": "stdout",
     "output_type": "stream",
     "text": [
      "Total Characters:  135172\n",
      "Total Vocab:  29\n"
     ]
    }
   ],
   "source": [
    "n_chars = len(raw_text)\n",
    "n_vocab = len(chars)\n",
    "print(\"Total Characters: \", n_chars)\n",
    "print(\"Total Vocab: \", n_vocab)"
   ]
  },
  {
   "cell_type": "markdown",
   "metadata": {},
   "source": [
    "We can see that the book has just under 150,000 characters and that when converted to lowercase that there are only 37 distinct characters in the vocabulary for the network to learn. Much more than the 26 in the alphabet.\n",
    "\n",
    "We now need to define the training data for the network. There is a lot of flexibility in how you choose to break up the text and expose it to the network during training.\n",
    "\n",
    "In this tutorial we will split the book text up into subsequences with a fixed length of 100 characters, an arbitrary length. We could just as easily split the data up by sentences and pad the shorter sequences and truncate the longer ones.\n",
    "\n",
    "Each training pattern of the network is comprised of 100 time steps of one character (X) followed by one character output (y). When creating these sequences, we slide this window along the whole book one character at a time, allowing each character a chance to be learned from the 100 characters that preceded it (except the first 100 characters of course).\n",
    "\n",
    "For example, if the sequence length is 5 (for simplicity) then the first two training patterns would be as follows:  \n",
    "\n",
    "CHAPT -> E\n",
    "HAPTE -> R\n",
    "\n",
    "As we split up the book into these sequences, we convert the characters to integers using our lookup table we prepared earlier.  "
   ]
  },
  {
   "cell_type": "code",
   "execution_count": 20,
   "metadata": {},
   "outputs": [
    {
     "name": "stdout",
     "output_type": "stream",
     "text": [
      "Total Patterns:  135072\n"
     ]
    }
   ],
   "source": [
    "# prepare the dataset of input to output pairs encoded as integers\n",
    "seq_length = 100\n",
    "dataX = []\n",
    "dataY = []\n",
    "for i in range(0, n_chars - seq_length, 1):\n",
    "    seq_in = raw_text[i:i + seq_length]\n",
    "    seq_out = raw_text[i + seq_length]\n",
    "    dataX.append([char_to_int[char] for char in seq_in])\n",
    "    dataY.append(char_to_int[seq_out])\n",
    "n_patterns = len(dataX)\n",
    "print(\"Total Patterns: \", n_patterns)"
   ]
  },
  {
   "cell_type": "markdown",
   "metadata": {},
   "source": [
    "Running the code to this point shows us that when we split up the dataset into training data for the network to learn that we have just under 150,000 training pattens. This makes sense as excluding the first 100 characters, we have one training pattern to predict each of the remaining characters.  "
   ]
  },
  {
   "cell_type": "markdown",
   "metadata": {},
   "source": [
    "Now that we have prepared our training data we need to transform it so that it is suitable for use with Keras.\n",
    "\n",
    "First we must transform the list of input sequences into the form [samples, time steps, features] expected by an LSTM network.\n",
    "\n",
    "Next we need to rescale the integers to the range 0-to-1 to make the patterns easier to learn by the LSTM network that uses the sigmoid activation function by default.\n",
    "\n",
    "Finally, we need to convert the output patterns (single characters converted to integers) into a one hot encoding. This is so that we can configure the network to predict the probability of each of the 47 different characters in the vocabulary (an easier representation) rather than trying to force it to predict precisely the next character. Each y value is converted into a sparse vector with a length of 47, full of zeros except with a 1 in the column for the letter (integer) that the pattern represents.\n",
    "\n",
    "We can implement these steps as below.  "
   ]
  },
  {
   "cell_type": "code",
   "execution_count": 21,
   "metadata": {},
   "outputs": [],
   "source": [
    "# reshape X to be [samples, time steps, features]\n",
    "X = numpy.reshape(dataX, (n_patterns, seq_length, 1))\n",
    "# normalize\n",
    "X = X / float(n_vocab)\n",
    "# one hot encode the output variable\n",
    "y = tf.keras.utils.to_categorical(dataY)"
   ]
  },
  {
   "cell_type": "markdown",
   "metadata": {},
   "source": [
    "We can now define our LSTM model. Here we define a single hidden LSTM layer with 256 memory units. The network uses dropout with a probability of 20. The output layer is a Dense layer using the softmax activation function to output a probability prediction for each of the 47 characters between 0 and 1.\n",
    "\n",
    "The problem is really a single character classification problem with 47 classes and as such is defined as optimizing the log loss (cross entropy), here using the ADAM optimization algorithm for speed."
   ]
  },
  {
   "cell_type": "code",
   "execution_count": 22,
   "metadata": {},
   "outputs": [],
   "source": [
    "# define the LSTM model\n",
    "model = tf.keras.Sequential()\n",
    "model.add(tf.keras.layers.LSTM(256, input_shape=(X.shape[1], X.shape[2])))\n",
    "model.add(tf.keras.layers.Dropout(0.2))\n",
    "model.add(tf.keras.layers.Dense(y.shape[1], activation='softmax'))\n",
    "model.compile(loss='categorical_crossentropy', optimizer='adam')"
   ]
  },
  {
   "cell_type": "markdown",
   "metadata": {},
   "source": [
    "There is no test dataset. We are modeling the entire training dataset to learn the probability of each character in a sequence.\n",
    "\n",
    "We are not interested in the most accurate (classification accuracy) model of the training dataset. This would be a model that predicts each character in the training dataset perfectly. Instead we are interested in a generalization of the dataset that minimizes the chosen loss function. We are seeking a balance between generalization and overfitting but short of memorization.\n",
    "\n",
    "The network is slow to train (about 300 seconds per epoch on an Nvidia K520 GPU). Because of the slowness and because of our optimization requirements, we will use model checkpointing to record all of the network weights to file each time an improvement in loss is observed at the end of the epoch. We will use the best set of weights (lowest loss) to instantiate our generative model in the next section."
   ]
  },
  {
   "cell_type": "code",
   "execution_count": 23,
   "metadata": {},
   "outputs": [],
   "source": [
    "# define the checkpoint\n",
    "filepath=\"weights-improvement-{epoch:02d}-{loss:.4f}.hdf5\"\n",
    "checkpoint = tf.keras.callbacks.ModelCheckpoint(filepath, monitor='loss', verbose=1, save_best_only=True, mode='min')\n",
    "callbacks_list = [checkpoint]"
   ]
  },
  {
   "cell_type": "markdown",
   "metadata": {},
   "source": [
    "We can now fit our model to the data. Here we use a modest number of 20/30 epochs and a large batch size of 32/64/128 patterns."
   ]
  },
  {
   "cell_type": "code",
   "execution_count": null,
   "metadata": {
    "scrolled": true
   },
   "outputs": [
    {
     "name": "stdout",
     "output_type": "stream",
     "text": [
      "Train on 135072 samples\n",
      "Epoch 1/30\n",
      "135040/135072 [============================>.] - ETA: 0s - loss: 2.6422\n",
      "Epoch 00001: loss improved from inf to 2.64222, saving model to weights-improvement-01-2.6422.hdf5\n",
      "135072/135072 [==============================] - 293s 2ms/sample - loss: 2.6422\n",
      "Epoch 2/30\n",
      "135040/135072 [============================>.] - ETA: 0s - loss: 2.4246- ETA: 0s - l\n",
      "Epoch 00002: loss improved from 2.64222 to 2.42453, saving model to weights-improvement-02-2.4245.hdf5\n",
      "135072/135072 [==============================] - 292s 2ms/sample - loss: 2.4245\n",
      "Epoch 3/30\n",
      "   992/135072 [..............................] - ETA: 5:06 - loss: 2.3343"
     ]
    }
   ],
   "source": [
    "t0 = time.time()\n",
    "\n",
    "history = model.fit(X, y, epochs=30, batch_size=32, callbacks=callbacks_list, verbose=1)\n",
    "\n",
    "print(time.time() - t0)"
   ]
  },
  {
   "cell_type": "code",
   "execution_count": null,
   "metadata": {},
   "outputs": [],
   "source": [
    "# list all data in history\n",
    "print(history.history.keys())"
   ]
  },
  {
   "cell_type": "code",
   "execution_count": null,
   "metadata": {},
   "outputs": [],
   "source": [
    "# summarize history for loss\n",
    "plt.figure(figsize=(12,8))\n",
    "plt.plot(history.history['loss'])\n",
    "plt.title('model loss')\n",
    "plt.ylabel('loss')\n",
    "plt.xlabel('epoch')\n",
    "plt.legend(['train', 'test'], loc='upper left')\n",
    "plt.show()"
   ]
  },
  {
   "cell_type": "markdown",
   "metadata": {},
   "source": [
    "The network loss decreased almost every epoch and I expect the network could benefit from training for many more epochs.\n",
    "\n",
    "In the next section we will look at using this model to generate new text sequences."
   ]
  },
  {
   "cell_type": "markdown",
   "metadata": {},
   "source": [
    "You will see different results because of the stochastic nature of the model, and because it is hard to fix the random seed for LSTM models to get 100% reproducible results. This is not a concern for this generative model.\n",
    "\n",
    "After running the example, you should have a number of weight checkpoint files in the local directory.\n",
    "\n",
    "You can delete them all except the one with the smallest loss value."
   ]
  },
  {
   "cell_type": "code",
   "execution_count": null,
   "metadata": {},
   "outputs": [],
   "source": [
    "!ls *.hdf5"
   ]
  },
  {
   "cell_type": "code",
   "execution_count": null,
   "metadata": {},
   "outputs": [],
   "source": [
    "filename = \"weights-improvement-29-1.3749.hdf5\""
   ]
  },
  {
   "cell_type": "markdown",
   "metadata": {},
   "source": [
    "### Generating Text with an LSTM Network\n",
    "\n",
    "Generating text using the trained LSTM network is relatively straightforward.\n",
    "\n",
    "Firstly, we load the data and define the network in exactly the same way, except the network weights are loaded from a checkpoint file and the network does not need to be trained."
   ]
  },
  {
   "cell_type": "code",
   "execution_count": null,
   "metadata": {},
   "outputs": [],
   "source": [
    "# load the network weights\n",
    "model.load_weights(filename)\n",
    "model.compile(loss='categorical_crossentropy', optimizer='adam')"
   ]
  },
  {
   "cell_type": "markdown",
   "metadata": {},
   "source": [
    "Also, when preparing the mapping of unique characters to integers, we must also create a reverse mapping that we can use to convert the integers back to characters so that we can understand the predictions."
   ]
  },
  {
   "cell_type": "code",
   "execution_count": null,
   "metadata": {},
   "outputs": [],
   "source": [
    "int_to_char = dict((i, c) for i, c in enumerate(chars))"
   ]
  },
  {
   "cell_type": "markdown",
   "metadata": {},
   "source": [
    "Finally, we need to actually make predictions.\n",
    "\n",
    "The simplest way to use the Keras LSTM model to make predictions is to first start off with a seed sequence as input, generate the next character then update the seed sequence to add the generated character on the end and trim off the first character. This process is repeated for as long as we want to predict new characters (e.g. a sequence of 1,000 characters in length).\n",
    "\n",
    "We can pick a random input pattern as our seed sequence, then print generated characters as we generate them."
   ]
  },
  {
   "cell_type": "markdown",
   "metadata": {},
   "source": [
    "Running this example first outputs the selected random seed, then each character as it is generated.\n",
    "\n",
    "For example, below are the results from one run of this text generator. The random seed was:"
   ]
  },
  {
   "cell_type": "code",
   "execution_count": null,
   "metadata": {},
   "outputs": [],
   "source": [
    "#pick a random seed\n",
    "start = numpy.random.randint(0, len(dataX)-1)\n",
    "pattern = dataX[start]\n",
    "print(\"Seed:\")\n",
    "print(\"\\\"\", ''.join([int_to_char[value] for value in pattern]), \"\\\"\")\n",
    "# generate characters\n",
    "for i in range(1000):\n",
    "    x = numpy.reshape(pattern, (1, len(pattern), 1))\n",
    "    x = x / float(n_vocab)\n",
    "    prediction = model.predict(x, verbose=0)\n",
    "    index = numpy.argmax(prediction)\n",
    "    result = int_to_char[index]\n",
    "    seq_in = [int_to_char[value] for value in pattern]\n",
    "    sys.stdout.write(result)\n",
    "    pattern.append(index)\n",
    "    pattern = pattern[1:len(pattern)]\n",
    "print(\"\\nDone.\")"
   ]
  },
  {
   "cell_type": "markdown",
   "metadata": {},
   "source": [
    "We can note some observations about the generated text.  \n",
    "+ It generally conforms to the line format observed in the original text of less than 80 characters before a new line.\n",
    "+ The characters are separated into word-like groups and most groups are actual English words (e.g. “the”, “little” and “was”), but many do not (e.g. “lott”, “tiie” and “taede”).\n",
    "+ Some of the words in sequence make sense(e.g. “and the white rabbit“), but many do not (e.g. “wese tilel“).\n",
    "\n",
    "The fact that this character based model of the book produces output like this is very impressive. It gives you a sense of the learning capabilities of LSTM networks.\n",
    "\n",
    "The results are not perfect. In the next section we look at improving the quality of results by developing a much larger LSTM network."
   ]
  },
  {
   "cell_type": "markdown",
   "metadata": {},
   "source": [
    "### Larger LSTM Recurrent Neural Network\n",
    "\n",
    "We got results, but not excellent results in the previous section. Now, we can try to improve the quality of the generated text by creating a much larger network.\n",
    "\n",
    "We will keep the number of memory units the same at 256, but add a second layer."
   ]
  },
  {
   "cell_type": "code",
   "execution_count": null,
   "metadata": {},
   "outputs": [],
   "source": [
    "model = tf.keras.Sequential()\n",
    "model.add(tf.keras.layers.LSTM(256, input_shape=(X.shape[1], X.shape[2]), return_sequences=True))\n",
    "model.add(tf.keras.layers.Dropout(0.2))\n",
    "model.add(tf.keras.layers.LSTM(256))\n",
    "model.add(tf.keras.layers.Dropout(0.2))\n",
    "model.add(tf.keras.layers.Dense(y.shape[1], activation='softmax'))\n",
    "model.compile(loss='categorical_crossentropy', optimizer='adam')"
   ]
  },
  {
   "cell_type": "markdown",
   "metadata": {},
   "source": [
    "We will also change the filename of the checkpointed weights so that we can tell the difference between weights for this network and the previous (by appending the word “bigger” in the filename)."
   ]
  },
  {
   "cell_type": "code",
   "execution_count": null,
   "metadata": {},
   "outputs": [],
   "source": [
    "filepath=\"weights-improvement-{epoch:02d}-{loss:.4f}-bigger.hdf5\""
   ]
  },
  {
   "cell_type": "markdown",
   "metadata": {},
   "source": [
    "Finally, we will increase the number of training epochs from 20 to 50 and use batch size 32/64 to give the network more of an opportunity to be updated and learn."
   ]
  },
  {
   "cell_type": "code",
   "execution_count": null,
   "metadata": {},
   "outputs": [],
   "source": [
    "t0 = time.time()\n",
    "\n",
    "checkpoint = ModelCheckpoint(filepath, monitor='loss', verbose=1, save_best_only=True, mode='min')\n",
    "callbacks_list = [checkpoint]\n",
    "# fit the model\n",
    "history = model.fit(X, y, epochs=50, batch_size=32, callbacks=callbacks_list)\n",
    "\n",
    "print(time.time() - t0)"
   ]
  },
  {
   "cell_type": "code",
   "execution_count": null,
   "metadata": {},
   "outputs": [],
   "source": [
    "# list all data in history\n",
    "print(history.history.keys())"
   ]
  },
  {
   "cell_type": "code",
   "execution_count": null,
   "metadata": {},
   "outputs": [],
   "source": [
    "# summarize history for loss\n",
    "plt.figure(figsize=(12,8))\n",
    "plt.plot(history.history['loss'])\n",
    "plt.title('model loss')\n",
    "plt.ylabel('loss')\n",
    "plt.xlabel('epoch')\n",
    "plt.legend(['train', 'test'], loc='upper left')\n",
    "plt.show()"
   ]
  },
  {
   "cell_type": "code",
   "execution_count": null,
   "metadata": {},
   "outputs": [],
   "source": [
    "!ls *.hdf5"
   ]
  },
  {
   "cell_type": "code",
   "execution_count": null,
   "metadata": {},
   "outputs": [],
   "source": [
    "filename = \"weights-improvement-35-1.1737-bigger.hdf5\""
   ]
  },
  {
   "cell_type": "code",
   "execution_count": null,
   "metadata": {},
   "outputs": [],
   "source": [
    "# load the network weights\n",
    "model.load_weights(filename)\n",
    "model.compile(loss='categorical_crossentropy', optimizer='adam')"
   ]
  },
  {
   "cell_type": "code",
   "execution_count": null,
   "metadata": {},
   "outputs": [],
   "source": [
    "int_to_char = dict((i, c) for i, c in enumerate(chars))"
   ]
  },
  {
   "cell_type": "markdown",
   "metadata": {},
   "source": [
    "One example of running this text generation script produces the output below.\n",
    "\n",
    "The randomly chosen seed text was:"
   ]
  },
  {
   "cell_type": "code",
   "execution_count": null,
   "metadata": {},
   "outputs": [],
   "source": [
    "#pick a random seed\n",
    "start = numpy.random.randint(0, len(dataX)-1)\n",
    "pattern = dataX[start]\n",
    "print(\"Seed:\")\n",
    "print(\"\\\"\", ''.join([int_to_char[value] for value in pattern]), \"\\\"\")\n",
    "# generate characters\n",
    "for i in range(1000):\n",
    "    x = numpy.reshape(pattern, (1, len(pattern), 1))\n",
    "    x = x / float(n_vocab)\n",
    "    prediction = model.predict(x, verbose=0)\n",
    "    index = numpy.argmax(prediction)\n",
    "    result = int_to_char[index]\n",
    "    seq_in = [int_to_char[value] for value in pattern]\n",
    "    sys.stdout.write(result)\n",
    "    pattern.append(index)\n",
    "    pattern = pattern[1:len(pattern)]\n",
    "print(\"\\nDone.\")"
   ]
  },
  {
   "cell_type": "markdown",
   "metadata": {},
   "source": [
    "We can see that generally there are fewer spelling mistakes and the text looks more realistic, but is still quite nonsensical.\n",
    "\n",
    "For example the same phrases get repeated again and again. Quotes are opened but not closed.\n",
    "\n",
    "These are better results but there is still a lot of room for improvement."
   ]
  },
  {
   "cell_type": "markdown",
   "metadata": {},
   "source": [
    "### 10 Extension Ideas to Improve the Model\n",
    "\n",
    "Below are 10 ideas that may further improve the model that you could experiment with are:\n",
    "\n",
    "  + Predict fewer than 1,000 characters as output for a given seed.\n",
    "  + Remove all punctuation from the source text, and therefore from the models’ vocabulary.\n",
    "  + Try a one hot encoded for the input sequences.\n",
    "  + Train the model on padded sentences rather than random sequences of characters.\n",
    "  + Increase the number of training epochs to 100 or many hundreds.\n",
    "  + Add dropout to the visible input layer and consider tuning the dropout percentage.\n",
    "  + Tune the batch size, try a batch size of 1 as a (very slow) baseline and larger sizes from there.\n",
    "  + Add more memory units to the layers and/or more layers.\n",
    "  + Experiment with scale factors (temperature) when interpreting the prediction probabilities.\n",
    "  + Change the LSTM layers to be “stateful” to maintain state across batches.\n"
   ]
  },
  {
   "cell_type": "markdown",
   "metadata": {},
   "source": [
    "#### Resources\n",
    "\n",
    "This character text model is a popular way for generating text using recurrent neural networks.\n",
    "\n",
    "Below are some more resources and tutorials on the topic if you are interested in going deeper. Perhaps the most popular is the tutorial by Andrej Karpathy titled “The Unreasonable Effectiveness of Recurrent Neural Networks“.\n",
    "\n",
    "+ [Generating Text with Recurrent Neural Networks](http://www.cs.utoronto.ca/~ilya/pubs/2011/LANG-RNN.pdf)\n",
    "+ [Keras code example of LSTM for text generation](https://github.com/fchollet/keras/blob/master/examples/lstm_text_generation.py)\n",
    "+ [Lasagne code example of LSTM for text generation](https://github.com/Lasagne/Recipes/blob/master/examples/lstm_text_generation.py)  \n",
    "+ [MXNet tutorial for using an LSTM for text generation](http://mxnetjl.readthedocs.io/en/latest/tutorial/char-lstm.html)\n",
    "+ [Auto-Generating Clickbait With Recurrent Neural Networks](https://larseidnes.com/2015/10/13/auto-generating-clickbait-with-recurrent-neural-networks/)\n",
    "\n",
    "#### Summary\n",
    "\n",
    "In this notebook you discovered how you can develop an LSTM recurrent neural network for text generation in Python with the Keras deep learning library.\n",
    "\n",
    "+ Where to download the ASCII text for classical books for free that you can use for training.\n",
    "+ How to train an LSTM network on text sequences and how to use the trained network to generate new sequences.\n",
    "+ How to develop stacked LSTM networks and lift the performance of the model."
   ]
  },
  {
   "cell_type": "code",
   "execution_count": null,
   "metadata": {},
   "outputs": [],
   "source": []
  }
 ],
 "metadata": {
  "kernelspec": {
   "display_name": "Python 3",
   "language": "python",
   "name": "python3"
  },
  "language_info": {
   "codemirror_mode": {
    "name": "ipython",
    "version": 3
   },
   "file_extension": ".py",
   "mimetype": "text/x-python",
   "name": "python",
   "nbconvert_exporter": "python",
   "pygments_lexer": "ipython3",
   "version": "3.6.8"
  }
 },
 "nbformat": 4,
 "nbformat_minor": 4
}
